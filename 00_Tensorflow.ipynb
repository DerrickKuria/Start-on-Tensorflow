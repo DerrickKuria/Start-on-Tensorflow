{
  "nbformat": 4,
  "nbformat_minor": 0,
  "metadata": {
    "colab": {
      "name": "00_Tensorflow.ipynb",
      "provenance": []
    },
    "kernelspec": {
      "name": "python3",
      "display_name": "Python 3"
    },
    "language_info": {
      "name": "python"
    }
  },
  "cells": [
    {
      "cell_type": "markdown",
      "metadata": {
        "id": "P7k3zCvGQS97"
      },
      "source": [
        "1. **Getting Started**"
      ]
    },
    {
      "cell_type": "markdown",
      "metadata": {
        "id": "Xv1fEICDQa0F"
      },
      "source": [
        "What to expect in this  first lesson\n",
        "\n",
        "\n",
        "1.   Introduction to  tensors\n",
        "2.   Getting information from tensors\n",
        "3.   Manipulating tensors\n",
        "4.   Tensors and NumPy\n",
        "5.   Using @tf.function (a method to speed up regular python functions)\n",
        "6.   Using GPU's with Tensorflow (or TPU's)\n",
        "7.   Exercises"
      ]
    },
    {
      "cell_type": "markdown",
      "metadata": {
        "id": "BIPjh_vmRS-V"
      },
      "source": [
        "# **a. Introduction to Tensors**"
      ]
    },
    {
      "cell_type": "code",
      "metadata": {
        "id": "jauE1W4MRY57"
      },
      "source": [
        "#import TensorFlow \n",
        "import tensorflow as tf"
      ],
      "execution_count": null,
      "outputs": []
    },
    {
      "cell_type": "code",
      "metadata": {
        "colab": {
          "base_uri": "https://localhost:8080/"
        },
        "id": "cLh1qPyuQZNw",
        "outputId": "0bc692ed-6712-4f94-c45c-faf9d92a52a9"
      },
      "source": [
        "#Check the version of Tensorflow\n",
        "print(tf.__version__)"
      ],
      "execution_count": null,
      "outputs": [
        {
          "output_type": "stream",
          "text": [
            "2.5.0\n"
          ],
          "name": "stdout"
        }
      ]
    },
    {
      "cell_type": "markdown",
      "metadata": {
        "id": "hu-5Ptr8TiTH"
      },
      "source": [
        "tf.constant()\n",
        "Creates a constant tensor from a tensor-like object."
      ]
    },
    {
      "cell_type": "code",
      "metadata": {
        "id": "5gqBdebxTrb8"
      },
      "source": [
        "\n",
        "# tf.constant(\n",
        "#     value, dtype=None, shape=None, name='Const'\n",
        "# )"
      ],
      "execution_count": null,
      "outputs": []
    },
    {
      "cell_type": "markdown",
      "metadata": {
        "id": "ak9A7cWpZKQf"
      },
      "source": [
        "## **i). creating tensors with `tf.constant()`**"
      ]
    },
    {
      "cell_type": "code",
      "metadata": {
        "colab": {
          "base_uri": "https://localhost:8080/"
        },
        "id": "DmxhIaC9QLYO",
        "outputId": "77b31848-0f9b-4467-ee90-aedfa1f95000"
      },
      "source": [
        "#creating tensors with tf.constant()\n",
        "scalar1 = tf.constant(7)\n",
        "scalar1"
      ],
      "execution_count": null,
      "outputs": [
        {
          "output_type": "execute_result",
          "data": {
            "text/plain": [
              "<tf.Tensor: shape=(), dtype=int32, numpy=7>"
            ]
          },
          "metadata": {
            "tags": []
          },
          "execution_count": 4
        }
      ]
    },
    {
      "cell_type": "markdown",
      "metadata": {
        "id": "50fXJkgql3Se"
      },
      "source": [
        "###1. **Creating Scalars**"
      ]
    },
    {
      "cell_type": "code",
      "metadata": {
        "colab": {
          "base_uri": "https://localhost:8080/"
        },
        "id": "JSigyf5fUefK",
        "outputId": "ba3a47a7-d25b-4020-e066-a2db4ebd0b1d"
      },
      "source": [
        "# Constant 1-D Tensor from a python list.\n",
        "scalar2 = tf.constant([1, 2, 3, 4, 5, 6])\n",
        "scalar2"
      ],
      "execution_count": null,
      "outputs": [
        {
          "output_type": "execute_result",
          "data": {
            "text/plain": [
              "<tf.Tensor: shape=(6,), dtype=int32, numpy=array([1, 2, 3, 4, 5, 6], dtype=int32)>"
            ]
          },
          "metadata": {
            "tags": []
          },
          "execution_count": 5
        }
      ]
    },
    {
      "cell_type": "code",
      "metadata": {
        "colab": {
          "base_uri": "https://localhost:8080/"
        },
        "id": "mr_HO-FtU_t0",
        "outputId": "a21ef27a-8f3a-453c-ebfc-1878a3de53ee"
      },
      "source": [
        "# Tensor from a numpy array\n",
        "import numpy as np\n",
        "\n",
        "a = np.array([[1, 2, 3], [4, 5, 6]])\n",
        "tf.constant(a)"
      ],
      "execution_count": null,
      "outputs": [
        {
          "output_type": "execute_result",
          "data": {
            "text/plain": [
              "<tf.Tensor: shape=(2, 3), dtype=int64, numpy=\n",
              "array([[1, 2, 3],\n",
              "       [4, 5, 6]])>"
            ]
          },
          "metadata": {
            "tags": []
          },
          "execution_count": 6
        }
      ]
    },
    {
      "cell_type": "code",
      "metadata": {
        "colab": {
          "base_uri": "https://localhost:8080/"
        },
        "id": "TDUGFgxAVWoR",
        "outputId": "3b043b8c-97fa-4b39-c817-a6ddee8158ee"
      },
      "source": [
        "#If dtype is specified, the resulting tensor values are cast to the requested dtype.\n",
        "scalar3 = tf.constant([1, 2, 3, 4, 5, 6], dtype=tf.float64)\n",
        "scalar3\n"
      ],
      "execution_count": null,
      "outputs": [
        {
          "output_type": "execute_result",
          "data": {
            "text/plain": [
              "<tf.Tensor: shape=(6,), dtype=float64, numpy=array([1., 2., 3., 4., 5., 6.])>"
            ]
          },
          "metadata": {
            "tags": []
          },
          "execution_count": 7
        }
      ]
    },
    {
      "cell_type": "code",
      "metadata": {
        "colab": {
          "base_uri": "https://localhost:8080/"
        },
        "id": "_6U5SPj9Y40V",
        "outputId": "2092452a-6810-4288-c970-63d59cc86823"
      },
      "source": [
        "#If shape is set, the value is reshaped to match. Scalars are expanded to fill the shape:\n",
        "scalar4 = tf.constant(0, shape=(2, 3))\n",
        "scalar4"
      ],
      "execution_count": null,
      "outputs": [
        {
          "output_type": "execute_result",
          "data": {
            "text/plain": [
              "<tf.Tensor: shape=(2, 3), dtype=int32, numpy=\n",
              "array([[0, 0, 0],\n",
              "       [0, 0, 0]], dtype=int32)>"
            ]
          },
          "metadata": {
            "tags": []
          },
          "execution_count": 8
        }
      ]
    },
    {
      "cell_type": "markdown",
      "metadata": {
        "id": "D-0ifCaCZY7y"
      },
      "source": [
        "#### **Checking the dimension of a tensor**"
      ]
    },
    {
      "cell_type": "code",
      "metadata": {
        "colab": {
          "base_uri": "https://localhost:8080/"
        },
        "id": "cvRjfPzJaWib",
        "outputId": "a90867dc-00d0-48fa-e48a-0543cdc81bd4"
      },
      "source": [
        "scalar1"
      ],
      "execution_count": null,
      "outputs": [
        {
          "output_type": "execute_result",
          "data": {
            "text/plain": [
              "<tf.Tensor: shape=(), dtype=int32, numpy=7>"
            ]
          },
          "metadata": {
            "tags": []
          },
          "execution_count": 26
        }
      ]
    },
    {
      "cell_type": "code",
      "metadata": {
        "colab": {
          "base_uri": "https://localhost:8080/"
        },
        "id": "AoKiH4z5ZnVT",
        "outputId": "c2b9da3a-6d7f-453c-f6d4-7dab800aac27"
      },
      "source": [
        "#ndim stands for number of dimensions\n",
        "scalar1.ndim"
      ],
      "execution_count": null,
      "outputs": [
        {
          "output_type": "execute_result",
          "data": {
            "text/plain": [
              "0"
            ]
          },
          "metadata": {
            "tags": []
          },
          "execution_count": 9
        }
      ]
    },
    {
      "cell_type": "code",
      "metadata": {
        "colab": {
          "base_uri": "https://localhost:8080/"
        },
        "id": "3hZOoq4vabmm",
        "outputId": "eb91fd02-d717-4aec-8bb9-47897031b7e2"
      },
      "source": [
        "scalar2"
      ],
      "execution_count": null,
      "outputs": [
        {
          "output_type": "execute_result",
          "data": {
            "text/plain": [
              "<tf.Tensor: shape=(6,), dtype=int32, numpy=array([1, 2, 3, 4, 5, 6], dtype=int32)>"
            ]
          },
          "metadata": {
            "tags": []
          },
          "execution_count": 27
        }
      ]
    },
    {
      "cell_type": "code",
      "metadata": {
        "colab": {
          "base_uri": "https://localhost:8080/"
        },
        "id": "wehTVyMJZha4",
        "outputId": "50451140-87d2-4707-96d7-5ac42a38ef70"
      },
      "source": [
        "scalar2.ndim"
      ],
      "execution_count": null,
      "outputs": [
        {
          "output_type": "execute_result",
          "data": {
            "text/plain": [
              "1"
            ]
          },
          "metadata": {
            "tags": []
          },
          "execution_count": 10
        }
      ]
    },
    {
      "cell_type": "code",
      "metadata": {
        "colab": {
          "base_uri": "https://localhost:8080/"
        },
        "id": "tL35fFIcaghc",
        "outputId": "118bc332-2c1c-49a1-c9a9-3914a30faa66"
      },
      "source": [
        "a"
      ],
      "execution_count": null,
      "outputs": [
        {
          "output_type": "execute_result",
          "data": {
            "text/plain": [
              "array([[1, 2, 3],\n",
              "       [4, 5, 6]])"
            ]
          },
          "metadata": {
            "tags": []
          },
          "execution_count": 28
        }
      ]
    },
    {
      "cell_type": "code",
      "metadata": {
        "colab": {
          "base_uri": "https://localhost:8080/"
        },
        "id": "PbEVkcUYY_48",
        "outputId": "a1e41447-ee3b-42b7-cc26-8d9b5456381a"
      },
      "source": [
        "a.ndim"
      ],
      "execution_count": null,
      "outputs": [
        {
          "output_type": "execute_result",
          "data": {
            "text/plain": [
              "2"
            ]
          },
          "metadata": {
            "tags": []
          },
          "execution_count": 11
        }
      ]
    },
    {
      "cell_type": "code",
      "metadata": {
        "colab": {
          "base_uri": "https://localhost:8080/"
        },
        "id": "odWXg8ILavSC",
        "outputId": "25b98e5a-2b43-43c2-e4d2-c16b40f662d3"
      },
      "source": [
        "scalar3"
      ],
      "execution_count": null,
      "outputs": [
        {
          "output_type": "execute_result",
          "data": {
            "text/plain": [
              "<tf.Tensor: shape=(6,), dtype=float64, numpy=array([1., 2., 3., 4., 5., 6.])>"
            ]
          },
          "metadata": {
            "tags": []
          },
          "execution_count": 29
        }
      ]
    },
    {
      "cell_type": "code",
      "metadata": {
        "colab": {
          "base_uri": "https://localhost:8080/"
        },
        "id": "nNz74QQlacjh",
        "outputId": "b5b5fcce-c6e8-486c-8b26-405273f01891"
      },
      "source": [
        "scalar3.ndim"
      ],
      "execution_count": null,
      "outputs": [
        {
          "output_type": "execute_result",
          "data": {
            "text/plain": [
              "1"
            ]
          },
          "metadata": {
            "tags": []
          },
          "execution_count": 12
        }
      ]
    },
    {
      "cell_type": "code",
      "metadata": {
        "colab": {
          "base_uri": "https://localhost:8080/"
        },
        "id": "8x40ty7Ga-Ur",
        "outputId": "c9661e47-dfeb-4d4d-b25c-96483455c05f"
      },
      "source": [
        "scalar4"
      ],
      "execution_count": null,
      "outputs": [
        {
          "output_type": "execute_result",
          "data": {
            "text/plain": [
              "<tf.Tensor: shape=(2, 3), dtype=int32, numpy=\n",
              "array([[0, 0, 0],\n",
              "       [0, 0, 0]], dtype=int32)>"
            ]
          },
          "metadata": {
            "tags": []
          },
          "execution_count": 30
        }
      ]
    },
    {
      "cell_type": "code",
      "metadata": {
        "colab": {
          "base_uri": "https://localhost:8080/"
        },
        "id": "sX8YxnCuafZs",
        "outputId": "3dc0b3d5-b772-487d-8572-de07b8591634"
      },
      "source": [
        "scalar4.ndim"
      ],
      "execution_count": null,
      "outputs": [
        {
          "output_type": "execute_result",
          "data": {
            "text/plain": [
              "2"
            ]
          },
          "metadata": {
            "tags": []
          },
          "execution_count": 13
        }
      ]
    },
    {
      "cell_type": "markdown",
      "metadata": {
        "id": "h9PDVjfWaxSM"
      },
      "source": [
        "### **2. Create a vector**"
      ]
    },
    {
      "cell_type": "code",
      "metadata": {
        "colab": {
          "base_uri": "https://localhost:8080/"
        },
        "id": "9vVxaM4Ba3SV",
        "outputId": "c6ab9a13-620c-4991-9bee-9cf278eccf8c"
      },
      "source": [
        "#We will create a tensor and pass it a python list\n",
        "vector1 =tf.constant([10,10])\n",
        "vector1"
      ],
      "execution_count": null,
      "outputs": [
        {
          "output_type": "execute_result",
          "data": {
            "text/plain": [
              "<tf.Tensor: shape=(2,), dtype=int32, numpy=array([10, 10], dtype=int32)>"
            ]
          },
          "metadata": {
            "tags": []
          },
          "execution_count": 14
        }
      ]
    },
    {
      "cell_type": "markdown",
      "metadata": {
        "id": "0hPjYaBdhYsX"
      },
      "source": [
        "#### **Check the dimension of our Vector**"
      ]
    },
    {
      "cell_type": "code",
      "metadata": {
        "colab": {
          "base_uri": "https://localhost:8080/"
        },
        "id": "4I0O2v0mbcuR",
        "outputId": "26f3e016-d99f-42e1-dd0c-7ffaec6e12fa"
      },
      "source": [
        "#Check the dimension of our Vector\n",
        "vector1.ndim"
      ],
      "execution_count": null,
      "outputs": [
        {
          "output_type": "execute_result",
          "data": {
            "text/plain": [
              "1"
            ]
          },
          "metadata": {
            "tags": []
          },
          "execution_count": 32
        }
      ]
    },
    {
      "cell_type": "markdown",
      "metadata": {
        "id": "iSkik7yec8MY"
      },
      "source": [
        "###3.**Create a matrix( has more than 1 dimension )**\n"
      ]
    },
    {
      "cell_type": "code",
      "metadata": {
        "colab": {
          "base_uri": "https://localhost:8080/"
        },
        "id": "Ak9ToAwydLqg",
        "outputId": "464a19a2-4baf-450f-8235-ac76be5714cd"
      },
      "source": [
        "matrix = tf.constant(([10,7],[7,10]))\n",
        "matrix\n"
      ],
      "execution_count": null,
      "outputs": [
        {
          "output_type": "execute_result",
          "data": {
            "text/plain": [
              "<tf.Tensor: shape=(2, 2), dtype=int32, numpy=\n",
              "array([[10,  7],\n",
              "       [ 7, 10]], dtype=int32)>"
            ]
          },
          "metadata": {
            "tags": []
          },
          "execution_count": 16
        }
      ]
    },
    {
      "cell_type": "markdown",
      "metadata": {
        "id": "8rfc8SFthqlg"
      },
      "source": [
        "#### **check the dimension of our matrix**"
      ]
    },
    {
      "cell_type": "code",
      "metadata": {
        "colab": {
          "base_uri": "https://localhost:8080/"
        },
        "id": "N_wxs9TjdcX8",
        "outputId": "c642bfca-f78e-4ff7-cea8-bcd90f630c5a"
      },
      "source": [
        "#check the dimension of our matrix\n",
        "matrix.ndim"
      ],
      "execution_count": null,
      "outputs": [
        {
          "output_type": "execute_result",
          "data": {
            "text/plain": [
              "2"
            ]
          },
          "metadata": {
            "tags": []
          },
          "execution_count": 17
        }
      ]
    },
    {
      "cell_type": "markdown",
      "metadata": {
        "id": "7FMKwf0od4J3"
      },
      "source": [
        "So what we get is that the number on the items in the shape is the ndim"
      ]
    },
    {
      "cell_type": "code",
      "metadata": {
        "colab": {
          "base_uri": "https://localhost:8080/"
        },
        "id": "rvzIeV9ld1oN",
        "outputId": "0c65abd0-bd71-4e39-f611-255788423140"
      },
      "source": [
        "#Create another matrix\n",
        "\n",
        "another_matrix = tf.constant([[10.,7,],[3.,2.],[8.,9.]], dtype= tf.float16) # specify the datatype with the  dtype parameter\n",
        "another_matrix"
      ],
      "execution_count": null,
      "outputs": [
        {
          "output_type": "execute_result",
          "data": {
            "text/plain": [
              "<tf.Tensor: shape=(3, 2), dtype=float16, numpy=\n",
              "array([[10.,  7.],\n",
              "       [ 3.,  2.],\n",
              "       [ 8.,  9.]], dtype=float16)>"
            ]
          },
          "metadata": {
            "tags": []
          },
          "execution_count": 18
        }
      ]
    },
    {
      "cell_type": "code",
      "metadata": {
        "colab": {
          "base_uri": "https://localhost:8080/"
        },
        "id": "YAAzEZ13fLji",
        "outputId": "8eda9d63-38ed-4061-d166-96cdf037d6af"
      },
      "source": [
        "#Let us find the number of dimensions for another Matrix\n",
        "another_matrix.ndim"
      ],
      "execution_count": null,
      "outputs": [
        {
          "output_type": "execute_result",
          "data": {
            "text/plain": [
              "2"
            ]
          },
          "metadata": {
            "tags": []
          },
          "execution_count": 19
        }
      ]
    },
    {
      "cell_type": "markdown",
      "metadata": {
        "id": "FGpgkRWUhBoy"
      },
      "source": [
        "###4. **Create a tensor**"
      ]
    },
    {
      "cell_type": "code",
      "metadata": {
        "colab": {
          "base_uri": "https://localhost:8080/"
        },
        "id": "w9kKQJt4g2SK",
        "outputId": "7dd6dbcb-9bc8-4b0d-c81e-b027ba3111d4"
      },
      "source": [
        "tensor = tf.constant([[[1,2,3],[4,5,6]],[[7,8,9],[10,11,12]],[[13,14,15],[16,17,18]]])\n",
        "tensor"
      ],
      "execution_count": null,
      "outputs": [
        {
          "output_type": "execute_result",
          "data": {
            "text/plain": [
              "<tf.Tensor: shape=(3, 2, 3), dtype=int32, numpy=\n",
              "array([[[ 1,  2,  3],\n",
              "        [ 4,  5,  6]],\n",
              "\n",
              "       [[ 7,  8,  9],\n",
              "        [10, 11, 12]],\n",
              "\n",
              "       [[13, 14, 15],\n",
              "        [16, 17, 18]]], dtype=int32)>"
            ]
          },
          "metadata": {
            "tags": []
          },
          "execution_count": 20
        }
      ]
    },
    {
      "cell_type": "code",
      "metadata": {
        "id": "6OWuZcj1liFj"
      },
      "source": [
        ""
      ],
      "execution_count": null,
      "outputs": []
    },
    {
      "cell_type": "markdown",
      "metadata": {
        "id": "3HHoVTJBjtJs"
      },
      "source": [
        "#### **Check the number of ndims**"
      ]
    },
    {
      "cell_type": "code",
      "metadata": {
        "colab": {
          "base_uri": "https://localhost:8080/"
        },
        "id": "x627iUptjnno",
        "outputId": "27902aa0-cf74-415e-e185-518ddde8c1a9"
      },
      "source": [
        "tensor.ndim"
      ],
      "execution_count": null,
      "outputs": [
        {
          "output_type": "execute_result",
          "data": {
            "text/plain": [
              "3"
            ]
          },
          "metadata": {
            "tags": []
          },
          "execution_count": 21
        }
      ]
    },
    {
      "cell_type": "markdown",
      "metadata": {
        "id": "zdCGrFYRlX8W"
      },
      "source": [
        "###5. **Summary**"
      ]
    },
    {
      "cell_type": "markdown",
      "metadata": {
        "id": "t5N0vhWCf74S"
      },
      "source": [
        "NB. So the total dimensions id the numbers in the shape.\n",
        "\n",
        "* A scalar has no dimensions.\n",
        "\n",
        "* A Vector has 1 dimension.(1 demensional tensor)\n",
        "\n",
        "* A Matrix has 2 dimensions.(2 dimensional tensor)\n",
        "\n",
        "* A tensor han n number of dimensions( n dimensional tensor)"
      ]
    },
    {
      "cell_type": "markdown",
      "metadata": {
        "id": "s6E-pFR4h9o3"
      },
      "source": [
        "1. ***Scalar*** - Single number\n",
        "\n",
        "2. ***Vector*** - A number with direction eg windspeed\n",
        "\n",
        "3. ***Matrix*** - is a 2 dimensional array of numbers\n",
        "\n",
        "4. ***Tensor*** - an n-dimensional array of numbers\n",
        "\n"
      ]
    },
    {
      "cell_type": "markdown",
      "metadata": {
        "id": "ONp3VbffmTah"
      },
      "source": [
        "## ii). **Create tensors with `tf.variable`**"
      ]
    },
    {
      "cell_type": "markdown",
      "metadata": {
        "id": "DMLI1nuhnZs5"
      },
      "source": [
        "A variable maintains shared, persistent state manipulated by a program.\n",
        "\n",
        "The Variable() constructor requires an initial value for the variable, which can be a Tensor of any type and shape. \n",
        "\n",
        "This initial value defines the type and shape of the variable. After construction, the type and shape of the variable are fixed. \n",
        "\n",
        "The value can be changed using one of the assign methods."
      ]
    },
    {
      "cell_type": "code",
      "metadata": {
        "id": "Wq5o-oNHmSoQ"
      },
      "source": [
        "# tf.Variable(\n",
        "#     initial_value=None, trainable=None, validate_shape=True, caching_device=None,\n",
        "#     name=None, variable_def=None, dtype=None, import_scope=None, constraint=None,\n",
        "#     synchronization=tf.VariableSynchronization.AUTO,\n",
        "#     aggregation=tf.compat.v1.VariableAggregation.NONE, shape=None\n",
        "# )"
      ],
      "execution_count": null,
      "outputs": []
    },
    {
      "cell_type": "code",
      "metadata": {
        "colab": {
          "base_uri": "https://localhost:8080/"
        },
        "id": "CdmA34J1nd0m",
        "outputId": "939f948a-33e0-4498-9ffc-5679417ce341"
      },
      "source": [
        "#Create the same tensors using  tensor with tf.variable() as above\n",
        "\n",
        "changeable_tensor = tf.Variable([10,7])\n",
        "changeable_tensor\n"
      ],
      "execution_count": null,
      "outputs": [
        {
          "output_type": "execute_result",
          "data": {
            "text/plain": [
              "<tf.Variable 'Variable:0' shape=(2,) dtype=int32, numpy=array([10,  7], dtype=int32)>"
            ]
          },
          "metadata": {
            "tags": []
          },
          "execution_count": 23
        }
      ]
    },
    {
      "cell_type": "code",
      "metadata": {
        "colab": {
          "base_uri": "https://localhost:8080/"
        },
        "id": "OS8D0o_Oo-J9",
        "outputId": "a5dd7876-515d-4938-b4b4-181fce52cec5"
      },
      "source": [
        "unchangeable_tensor = tf.constant([10,7])\n",
        "unchangeable_tensor"
      ],
      "execution_count": null,
      "outputs": [
        {
          "output_type": "execute_result",
          "data": {
            "text/plain": [
              "<tf.Tensor: shape=(2,), dtype=int32, numpy=array([10,  7], dtype=int32)>"
            ]
          },
          "metadata": {
            "tags": []
          },
          "execution_count": 24
        }
      ]
    },
    {
      "cell_type": "markdown",
      "metadata": {
        "id": "PBYS6LO50Nvr"
      },
      "source": [
        "So, what will happen when we change the elements in our changeable tensor?"
      ]
    },
    {
      "cell_type": "code",
      "metadata": {
        "id": "e0-VPqOR0Uvb",
        "colab": {
          "base_uri": "https://localhost:8080/",
          "height": 201
        },
        "outputId": "a815d65e-a508-49b3-ad49-6d9778888f9e"
      },
      "source": [
        "#Get the first element and name it 7\n",
        "changeable_tensor[0]= 7\n",
        "changeable_tensor"
      ],
      "execution_count": null,
      "outputs": [
        {
          "output_type": "error",
          "ename": "TypeError",
          "evalue": "ignored",
          "traceback": [
            "\u001b[0;31m---------------------------------------------------------------------------\u001b[0m",
            "\u001b[0;31mTypeError\u001b[0m                                 Traceback (most recent call last)",
            "\u001b[0;32m<ipython-input-25-c65a0ecd82be>\u001b[0m in \u001b[0;36m<module>\u001b[0;34m()\u001b[0m\n\u001b[1;32m      1\u001b[0m \u001b[0;31m#Get the first element and name it 7\u001b[0m\u001b[0;34m\u001b[0m\u001b[0;34m\u001b[0m\u001b[0;34m\u001b[0m\u001b[0m\n\u001b[0;32m----> 2\u001b[0;31m \u001b[0mchangeable_tensor\u001b[0m\u001b[0;34m[\u001b[0m\u001b[0;36m0\u001b[0m\u001b[0;34m]\u001b[0m\u001b[0;34m=\u001b[0m \u001b[0;36m7\u001b[0m\u001b[0;34m\u001b[0m\u001b[0;34m\u001b[0m\u001b[0m\n\u001b[0m\u001b[1;32m      3\u001b[0m \u001b[0mchangeable_tensor\u001b[0m\u001b[0;34m\u001b[0m\u001b[0;34m\u001b[0m\u001b[0m\n",
            "\u001b[0;31mTypeError\u001b[0m: 'ResourceVariable' object does not support item assignment"
          ]
        }
      ]
    },
    {
      "cell_type": "code",
      "metadata": {
        "colab": {
          "base_uri": "https://localhost:8080/"
        },
        "id": "4YvrwYQT00SH",
        "outputId": "5727514b-7f34-4792-8fe0-a629da7de0d7"
      },
      "source": [
        "#We get an error , so we need to find another way to solve this. How about we try .assign()\n",
        "changeable_tensor[0].assign(7)\n",
        "changeable_tensor"
      ],
      "execution_count": null,
      "outputs": [
        {
          "output_type": "execute_result",
          "data": {
            "text/plain": [
              "<tf.Variable 'Variable:0' shape=(2,) dtype=int32, numpy=array([7, 7], dtype=int32)>"
            ]
          },
          "metadata": {
            "tags": []
          },
          "execution_count": 33
        }
      ]
    },
    {
      "cell_type": "markdown",
      "metadata": {
        "id": "dkjU2z3A1M12"
      },
      "source": [
        "This means it now works perfectly!\n",
        "\n",
        "Now lets try to change a value in the unchangeable tensor"
      ]
    },
    {
      "cell_type": "code",
      "metadata": {
        "colab": {
          "base_uri": "https://localhost:8080/",
          "height": 166
        },
        "id": "N18ZByVD1Mhx",
        "outputId": "1715519e-1981-4205-fde5-92f996719e2b"
      },
      "source": [
        "unchangeable_tensor[0] = 7"
      ],
      "execution_count": null,
      "outputs": [
        {
          "output_type": "error",
          "ename": "TypeError",
          "evalue": "ignored",
          "traceback": [
            "\u001b[0;31m---------------------------------------------------------------------------\u001b[0m",
            "\u001b[0;31mTypeError\u001b[0m                                 Traceback (most recent call last)",
            "\u001b[0;32m<ipython-input-34-f1d02a9f54e1>\u001b[0m in \u001b[0;36m<module>\u001b[0;34m()\u001b[0m\n\u001b[0;32m----> 1\u001b[0;31m \u001b[0munchangeable_tensor\u001b[0m\u001b[0;34m[\u001b[0m\u001b[0;36m0\u001b[0m\u001b[0;34m]\u001b[0m \u001b[0;34m=\u001b[0m \u001b[0;36m7\u001b[0m\u001b[0;34m\u001b[0m\u001b[0;34m\u001b[0m\u001b[0m\n\u001b[0m",
            "\u001b[0;31mTypeError\u001b[0m: 'tensorflow.python.framework.ops.EagerTensor' object does not support item assignment"
          ]
        }
      ]
    },
    {
      "cell_type": "markdown",
      "metadata": {
        "id": "pKwmARPi1mFs"
      },
      "source": [
        "We get an error, however , we could use Assign which has worked for us before."
      ]
    },
    {
      "cell_type": "code",
      "metadata": {
        "id": "jTRyNvU_1uly",
        "colab": {
          "base_uri": "https://localhost:8080/",
          "height": 287
        },
        "outputId": "1e7dce30-56d8-49cc-baf6-ac639323542f"
      },
      "source": [
        "unchangeable_tensor[0].assign(7)"
      ],
      "execution_count": null,
      "outputs": [
        {
          "output_type": "error",
          "ename": "AttributeError",
          "evalue": "ignored",
          "traceback": [
            "\u001b[0;31m---------------------------------------------------------------------------\u001b[0m",
            "\u001b[0;31mAttributeError\u001b[0m                            Traceback (most recent call last)",
            "\u001b[0;32m<ipython-input-35-c8c973b2e293>\u001b[0m in \u001b[0;36m<module>\u001b[0;34m()\u001b[0m\n\u001b[0;32m----> 1\u001b[0;31m \u001b[0munchangeable_tensor\u001b[0m\u001b[0;34m[\u001b[0m\u001b[0;36m0\u001b[0m\u001b[0;34m]\u001b[0m\u001b[0;34m.\u001b[0m\u001b[0massign\u001b[0m\u001b[0;34m(\u001b[0m\u001b[0;36m7\u001b[0m\u001b[0;34m)\u001b[0m\u001b[0;34m\u001b[0m\u001b[0;34m\u001b[0m\u001b[0m\n\u001b[0m",
            "\u001b[0;32m/usr/local/lib/python3.7/dist-packages/tensorflow/python/framework/ops.py\u001b[0m in \u001b[0;36m__getattr__\u001b[0;34m(self, name)\u001b[0m\n\u001b[1;32m    399\u001b[0m         \u001b[0;32mimport\u001b[0m \u001b[0mtensorflow\u001b[0m\u001b[0;34m.\u001b[0m\u001b[0mpython\u001b[0m\u001b[0;34m.\u001b[0m\u001b[0mops\u001b[0m\u001b[0;34m.\u001b[0m\u001b[0mnumpy_ops\u001b[0m\u001b[0;34m.\u001b[0m\u001b[0mnp_config\u001b[0m\u001b[0;34m\u001b[0m\u001b[0;34m\u001b[0m\u001b[0m\n\u001b[1;32m    400\u001b[0m         np_config.enable_numpy_behavior()\"\"\".format(type(self).__name__, name))\n\u001b[0;32m--> 401\u001b[0;31m     \u001b[0mself\u001b[0m\u001b[0;34m.\u001b[0m\u001b[0m__getattribute__\u001b[0m\u001b[0;34m(\u001b[0m\u001b[0mname\u001b[0m\u001b[0;34m)\u001b[0m\u001b[0;34m\u001b[0m\u001b[0;34m\u001b[0m\u001b[0m\n\u001b[0m\u001b[1;32m    402\u001b[0m \u001b[0;34m\u001b[0m\u001b[0m\n\u001b[1;32m    403\u001b[0m   \u001b[0;34m@\u001b[0m\u001b[0mstaticmethod\u001b[0m\u001b[0;34m\u001b[0m\u001b[0;34m\u001b[0m\u001b[0m\n",
            "\u001b[0;31mAttributeError\u001b[0m: 'tensorflow.python.framework.ops.EagerTensor' object has no attribute 'assign'"
          ]
        }
      ]
    },
    {
      "cell_type": "markdown",
      "metadata": {
        "id": "mc__H4pK16a2"
      },
      "source": [
        "We get an unchangeable tensor[0] that cannot change."
      ]
    },
    {
      "cell_type": "markdown",
      "metadata": {
        "id": "1DXGrDL83nAv"
      },
      "source": [
        "🔑 **NOTE** :Rarely will you need to decide whether to use `tf.constant` or tf.variable to create tensors as  Tensorflow will do  this for you.\n",
        "\n",
        "However if in doubt, use `tf.constant` and change it later if needed."
      ]
    },
    {
      "cell_type": "markdown",
      "metadata": {
        "id": "6RKqtdhE2LG-"
      },
      "source": [
        "##iii). **Creating Random Tensors**"
      ]
    },
    {
      "cell_type": "markdown",
      "metadata": {
        "id": "quZ6S2v-5h5Z"
      },
      "source": [
        "Random Tensors are tensors of some abitrary size which contain random numbers"
      ]
    },
    {
      "cell_type": "code",
      "metadata": {
        "id": "wE6ZPcBM8nI9"
      },
      "source": [
        "# tf.random.uniform(\n",
        "#     shape, minval=0, maxval=None, dtype=tf.dtypes.float32, seed=None, name=None\n",
        "# )"
      ],
      "execution_count": null,
      "outputs": []
    },
    {
      "cell_type": "code",
      "metadata": {
        "id": "IlkBzVYR8zLW"
      },
      "source": [
        "#Outputs random values from a uniform distribution."
      ],
      "execution_count": null,
      "outputs": []
    },
    {
      "cell_type": "code",
      "metadata": {
        "id": "gcvb_Oln2nei"
      },
      "source": [
        "#Create two random but the same tensors."
      ],
      "execution_count": null,
      "outputs": []
    },
    {
      "cell_type": "code",
      "metadata": {
        "colab": {
          "base_uri": "https://localhost:8080/"
        },
        "id": "-EYAvq1j14RX",
        "outputId": "e159be19-05e4-41cb-c5db-30d40eb50423"
      },
      "source": [
        "random1 = tf.random.Generator.from_seed(42)\n",
        "random1 = random1.normal(shape = (3,2))\n",
        "random1"
      ],
      "execution_count": null,
      "outputs": [
        {
          "output_type": "execute_result",
          "data": {
            "text/plain": [
              "<tf.Tensor: shape=(3, 2), dtype=float32, numpy=\n",
              "array([[-0.7565803 , -0.06854702],\n",
              "       [ 0.07595026, -1.2573844 ],\n",
              "       [-0.23193763, -1.8107855 ]], dtype=float32)>"
            ]
          },
          "metadata": {
            "tags": []
          },
          "execution_count": 39
        }
      ]
    },
    {
      "cell_type": "code",
      "metadata": {
        "colab": {
          "base_uri": "https://localhost:8080/"
        },
        "id": "XJiu5V1t_kh2",
        "outputId": "be286bd7-26af-4cdc-bae8-057476363862"
      },
      "source": [
        "random2 = tf.random.Generator.from_seed(42)\n",
        "random2 = random2.normal(shape = (3,2))\n",
        "random2"
      ],
      "execution_count": null,
      "outputs": [
        {
          "output_type": "execute_result",
          "data": {
            "text/plain": [
              "<tf.Tensor: shape=(3, 2), dtype=float32, numpy=\n",
              "array([[-0.7565803 , -0.06854702],\n",
              "       [ 0.07595026, -1.2573844 ],\n",
              "       [-0.23193763, -1.8107855 ]], dtype=float32)>"
            ]
          },
          "metadata": {
            "tags": []
          },
          "execution_count": 40
        }
      ]
    },
    {
      "cell_type": "markdown",
      "metadata": {
        "id": "tDEbLrQfAAz7"
      },
      "source": [
        "**Despite both of them being random, are they equal?**\n",
        "\n",
        "Lets check"
      ]
    },
    {
      "cell_type": "code",
      "metadata": {
        "colab": {
          "base_uri": "https://localhost:8080/"
        },
        "id": "EoWE858fAGut",
        "outputId": "70e81fc7-9344-4b48-9f20-f44f29a62956"
      },
      "source": [
        "random1 ==random2"
      ],
      "execution_count": null,
      "outputs": [
        {
          "output_type": "execute_result",
          "data": {
            "text/plain": [
              "<tf.Tensor: shape=(3, 2), dtype=bool, numpy=\n",
              "array([[ True,  True],\n",
              "       [ True,  True],\n",
              "       [ True,  True]])>"
            ]
          },
          "metadata": {
            "tags": []
          },
          "execution_count": 41
        }
      ]
    },
    {
      "cell_type": "markdown",
      "metadata": {
        "id": "F_BifAuvAYKa"
      },
      "source": [
        "We get True for all positions meaning both of them are Equal."
      ]
    },
    {
      "cell_type": "markdown",
      "metadata": {
        "id": "vuAP57IjaYKP"
      },
      "source": [
        "Shuffling the elements in a tensor"
      ]
    },
    {
      "cell_type": "markdown",
      "metadata": {
        "id": "ZO0Pw6nyaht4"
      },
      "source": [
        "First , why would one want to shuffle the elements of a tensor?\n",
        "\n",
        "\n",
        "If we have a set of data either in a folder or a set, eg. classifying friuts and we have all first 100 fruits as bananas and the next 100 fruits as Oranges, when we feed that data into a neural network, it would affect by adjusting the weights. \n",
        "\n",
        "\n",
        "So instead, its great to mix up the items and randomize them so as to learn different types of friuts.\n",
        "\n",
        "\n",
        "**NOTE** ***->*** Shuffling is important so that the inherent order does not affect learning. \n",
        "\n"
      ]
    },
    {
      "cell_type": "code",
      "metadata": {
        "colab": {
          "base_uri": "https://localhost:8080/"
        },
        "id": "24q4SWIsapox",
        "outputId": "83140991-ad43-499c-a890-444d06e8915f"
      },
      "source": [
        "not_shuffled = tf.constant([[10,7],[2,4],[5,9]])\n",
        "not_shuffled"
      ],
      "execution_count": null,
      "outputs": [
        {
          "output_type": "execute_result",
          "data": {
            "text/plain": [
              "<tf.Tensor: shape=(3, 2), dtype=int32, numpy=\n",
              "array([[10,  7],\n",
              "       [ 2,  4],\n",
              "       [ 5,  9]], dtype=int32)>"
            ]
          },
          "metadata": {
            "tags": []
          },
          "execution_count": 86
        }
      ]
    },
    {
      "cell_type": "code",
      "metadata": {
        "colab": {
          "base_uri": "https://localhost:8080/"
        },
        "id": "llIojKPddigF",
        "outputId": "4a76f1c9-e784-4c83-9315-2d49518ca9a8"
      },
      "source": [
        "#check the dimension\n",
        "not_shuffled.ndim"
      ],
      "execution_count": null,
      "outputs": [
        {
          "output_type": "execute_result",
          "data": {
            "text/plain": [
              "2"
            ]
          },
          "metadata": {
            "tags": []
          },
          "execution_count": 87
        }
      ]
    },
    {
      "cell_type": "markdown",
      "metadata": {
        "id": "6tGdUnnqe610"
      },
      "source": [
        "We will use `tf.random.uniform`"
      ]
    },
    {
      "cell_type": "code",
      "metadata": {
        "id": "15ORO463acF3"
      },
      "source": [
        "#check the shape\n",
        "# tf.random.uniform(\n",
        "#     shape, minval=0, maxval=None, dtype=tf.dtypes.float32, seed=None, name=None\n",
        "# )"
      ],
      "execution_count": null,
      "outputs": []
    },
    {
      "cell_type": "code",
      "metadata": {
        "colab": {
          "base_uri": "https://localhost:8080/"
        },
        "id": "yD6Ljieae_Cu",
        "outputId": "4b47642f-13de-4cad-c25a-bce1ff4b52fa"
      },
      "source": [
        "#Now lets shuffle it.\n",
        "tf.random.shuffle(not_shuffled)"
      ],
      "execution_count": null,
      "outputs": [
        {
          "output_type": "execute_result",
          "data": {
            "text/plain": [
              "<tf.Tensor: shape=(3, 2), dtype=int32, numpy=\n",
              "array([[10,  7],\n",
              "       [ 2,  4],\n",
              "       [ 5,  9]], dtype=int32)>"
            ]
          },
          "metadata": {
            "tags": []
          },
          "execution_count": 44
        }
      ]
    },
    {
      "cell_type": "markdown",
      "metadata": {
        "id": "lwG3TQI3fwHE"
      },
      "source": [
        "This shows it has shuffled the items in the dimension perspective"
      ]
    },
    {
      "cell_type": "code",
      "metadata": {
        "colab": {
          "base_uri": "https://localhost:8080/"
        },
        "id": "p4WwXREPfvTK",
        "outputId": "f5920000-2ae8-4a4f-8681-c50944210bec"
      },
      "source": [
        "#Lets shuffle it again and run it severally. \n",
        "tf.random.shuffle(not_shuffled, seed = 42)"
      ],
      "execution_count": null,
      "outputs": [
        {
          "output_type": "execute_result",
          "data": {
            "text/plain": [
              "<tf.Tensor: shape=(3, 2), dtype=int32, numpy=\n",
              "array([[10,  7],\n",
              "       [ 2,  4],\n",
              "       [ 5,  9]], dtype=int32)>"
            ]
          },
          "metadata": {
            "tags": []
          },
          "execution_count": 92
        }
      ]
    },
    {
      "cell_type": "code",
      "metadata": {
        "colab": {
          "base_uri": "https://localhost:8080/"
        },
        "id": "TZ8etPkJhlsI",
        "outputId": "39cbee5c-049d-42c7-ea29-c3a7639a73aa"
      },
      "source": [
        "#However if we set seed lets see what happens and run it severally.\n",
        "tf.random.set_seed(42)\n",
        "tf.random.shuffle(not_shuffled, seed = 42)"
      ],
      "execution_count": null,
      "outputs": [
        {
          "output_type": "execute_result",
          "data": {
            "text/plain": [
              "<tf.Tensor: shape=(3, 2), dtype=int32, numpy=\n",
              "array([[10,  7],\n",
              "       [ 2,  4],\n",
              "       [ 5,  9]], dtype=int32)>"
            ]
          },
          "metadata": {
            "tags": []
          },
          "execution_count": 95
        }
      ]
    },
    {
      "cell_type": "markdown",
      "metadata": {
        "id": "ARw-hn82kWLD"
      },
      "source": [
        "🛠 Exercise: Read on Random tensors and Shuffling."
      ]
    },
    {
      "cell_type": "code",
      "metadata": {
        "colab": {
          "base_uri": "https://localhost:8080/"
        },
        "id": "Qk8SO3npieBN",
        "outputId": "b5709604-b311-4488-c256-0a93c244a312"
      },
      "source": [
        "#Using an operational level seed\n",
        "tf.random.shuffle(not_shuffled, seed = (42))"
      ],
      "execution_count": null,
      "outputs": [
        {
          "output_type": "execute_result",
          "data": {
            "text/plain": [
              "<tf.Tensor: shape=(3, 2), dtype=int32, numpy=\n",
              "array([[ 5,  9],\n",
              "       [10,  7],\n",
              "       [ 2,  4]], dtype=int32)>"
            ]
          },
          "metadata": {
            "tags": []
          },
          "execution_count": 47
        }
      ]
    },
    {
      "cell_type": "code",
      "metadata": {
        "colab": {
          "base_uri": "https://localhost:8080/"
        },
        "id": "ZT-4xtvCmBGm",
        "outputId": "1ada9555-471c-43f9-cd4b-cdff519e86ce"
      },
      "source": [
        "# Set the global variable and the operational variable and shuffle severally. \n",
        "tf.random.set_seed(42)\n",
        "tf.random.shuffle(not_shuffled, seed = (42))"
      ],
      "execution_count": null,
      "outputs": [
        {
          "output_type": "execute_result",
          "data": {
            "text/plain": [
              "<tf.Tensor: shape=(3, 2), dtype=int32, numpy=\n",
              "array([[10,  7],\n",
              "       [ 2,  4],\n",
              "       [ 5,  9]], dtype=int32)>"
            ]
          },
          "metadata": {
            "tags": []
          },
          "execution_count": 48
        }
      ]
    },
    {
      "cell_type": "markdown",
      "metadata": {
        "id": "6aez4ZZDm05t"
      },
      "source": [
        "> It looks like our shuffled tensors to be in order, we,ve got to use the global level random seed as well as the operational level random seed.\n",
        "\n",
        "> If both the global and the operational seed  are set: Both seeds are used in conjuction to determine the random sequence. \n",
        "\n"
      ]
    },
    {
      "cell_type": "code",
      "metadata": {
        "id": "xKm7dGnqn57k"
      },
      "source": [
        ""
      ],
      "execution_count": null,
      "outputs": []
    },
    {
      "cell_type": "markdown",
      "metadata": {
        "id": "G8rV2ONypIAO"
      },
      "source": [
        "##**iv. Other ways to make Tensors**"
      ]
    },
    {
      "cell_type": "code",
      "metadata": {
        "colab": {
          "base_uri": "https://localhost:8080/"
        },
        "id": "CVVaSnynpagV",
        "outputId": "87aee7db-8131-4fe7-889e-83dbe76f5336"
      },
      "source": [
        "#Create a tensor of all ones\n",
        "tf.ones([3,4], tf.int32)"
      ],
      "execution_count": null,
      "outputs": [
        {
          "output_type": "execute_result",
          "data": {
            "text/plain": [
              "<tf.Tensor: shape=(3, 4), dtype=int32, numpy=\n",
              "array([[1, 1, 1, 1],\n",
              "       [1, 1, 1, 1],\n",
              "       [1, 1, 1, 1]], dtype=int32)>"
            ]
          },
          "metadata": {
            "tags": []
          },
          "execution_count": 49
        }
      ]
    },
    {
      "cell_type": "code",
      "metadata": {
        "colab": {
          "base_uri": "https://localhost:8080/"
        },
        "id": "QHenKNRLp4vS",
        "outputId": "83060b9c-fdf4-426a-fb57-20f3e0fde23c"
      },
      "source": [
        "tf.ones([10,7])\n"
      ],
      "execution_count": null,
      "outputs": [
        {
          "output_type": "execute_result",
          "data": {
            "text/plain": [
              "<tf.Tensor: shape=(10, 7), dtype=float32, numpy=\n",
              "array([[1., 1., 1., 1., 1., 1., 1.],\n",
              "       [1., 1., 1., 1., 1., 1., 1.],\n",
              "       [1., 1., 1., 1., 1., 1., 1.],\n",
              "       [1., 1., 1., 1., 1., 1., 1.],\n",
              "       [1., 1., 1., 1., 1., 1., 1.],\n",
              "       [1., 1., 1., 1., 1., 1., 1.],\n",
              "       [1., 1., 1., 1., 1., 1., 1.],\n",
              "       [1., 1., 1., 1., 1., 1., 1.],\n",
              "       [1., 1., 1., 1., 1., 1., 1.],\n",
              "       [1., 1., 1., 1., 1., 1., 1.]], dtype=float32)>"
            ]
          },
          "metadata": {
            "tags": []
          },
          "execution_count": 50
        }
      ]
    },
    {
      "cell_type": "code",
      "metadata": {
        "colab": {
          "base_uri": "https://localhost:8080/"
        },
        "id": "9FrLOu2Qqg33",
        "outputId": "e6b3cb29-3a8d-44c7-f430-677e5ba11d21"
      },
      "source": [
        "#Create a tensor of all zeros.\n",
        "\n",
        "tf.zeros(shape = (3,4))"
      ],
      "execution_count": null,
      "outputs": [
        {
          "output_type": "execute_result",
          "data": {
            "text/plain": [
              "<tf.Tensor: shape=(3, 4), dtype=float32, numpy=\n",
              "array([[0., 0., 0., 0.],\n",
              "       [0., 0., 0., 0.],\n",
              "       [0., 0., 0., 0.]], dtype=float32)>"
            ]
          },
          "metadata": {
            "tags": []
          },
          "execution_count": 51
        }
      ]
    },
    {
      "cell_type": "code",
      "metadata": {
        "id": "2I0FmqpyqzmT"
      },
      "source": [
        "#You can also turn Numpy arrays into Tensors"
      ],
      "execution_count": null,
      "outputs": []
    },
    {
      "cell_type": "markdown",
      "metadata": {
        "id": "r0Xu9Y6MqzSz"
      },
      "source": [
        "**Q.** The Difference of Numpy arrays and Tensorflow flows\n",
        "\n",
        "> ***The main Difference between Numpy arrays and Tensorflow tensors is  that tensors can be run on a GPU (much fast for numerical computing)***"
      ]
    },
    {
      "cell_type": "code",
      "metadata": {
        "id": "DJTA6O6Gr0k_"
      },
      "source": [
        "import numpy as np\n",
        "numpy_A = np.arange(1,25, dtype = np.int32)\n",
        "\n",
        "#X = tf.constant(some_matrix) #capital for matrix or tensor\n",
        "#Y = tf.constant(vector) #NOn capital for vector"
      ],
      "execution_count": null,
      "outputs": []
    },
    {
      "cell_type": "code",
      "metadata": {
        "colab": {
          "base_uri": "https://localhost:8080/"
        },
        "id": "wl7iSqkKsB7T",
        "outputId": "ba12170b-cab9-42ba-cf13-4775c7e4582a"
      },
      "source": [
        "numpy_A"
      ],
      "execution_count": null,
      "outputs": [
        {
          "output_type": "execute_result",
          "data": {
            "text/plain": [
              "array([ 1,  2,  3,  4,  5,  6,  7,  8,  9, 10, 11, 12, 13, 14, 15, 16, 17,\n",
              "       18, 19, 20, 21, 22, 23, 24], dtype=int32)"
            ]
          },
          "metadata": {
            "tags": []
          },
          "execution_count": 54
        }
      ]
    },
    {
      "cell_type": "markdown",
      "metadata": {
        "id": "OVHkGJf6xsDJ"
      },
      "source": [
        "Turning a Numpy Array into an tensor"
      ]
    },
    {
      "cell_type": "code",
      "metadata": {
        "colab": {
          "base_uri": "https://localhost:8080/"
        },
        "id": "lQ8sgXitzWpT",
        "outputId": "739f6bab-1248-4b9d-af14-301303132419"
      },
      "source": [
        "converted_np_to_tensor = tf.constant(numpy_A)\n",
        "converted_np_to_tensor "
      ],
      "execution_count": null,
      "outputs": [
        {
          "output_type": "execute_result",
          "data": {
            "text/plain": [
              "<tf.Tensor: shape=(24,), dtype=int32, numpy=\n",
              "array([ 1,  2,  3,  4,  5,  6,  7,  8,  9, 10, 11, 12, 13, 14, 15, 16, 17,\n",
              "       18, 19, 20, 21, 22, 23, 24], dtype=int32)>"
            ]
          },
          "metadata": {
            "tags": []
          },
          "execution_count": 55
        }
      ]
    },
    {
      "cell_type": "code",
      "metadata": {
        "id": "zpOkMaTqz2h0"
      },
      "source": [
        "#Changing the tensors shape\n",
        "import tensorflow as tf"
      ],
      "execution_count": null,
      "outputs": []
    },
    {
      "cell_type": "code",
      "metadata": {
        "colab": {
          "base_uri": "https://localhost:8080/"
        },
        "id": "HUmPb_k6XB9D",
        "outputId": "35d0766f-cecf-4bc3-9c5d-34107dadbe1b"
      },
      "source": [
        "converted_np_to_tensor1 = tf.constant(numpy_A, shape = (2,3,4))\n",
        "converted_np_to_tensor1"
      ],
      "execution_count": null,
      "outputs": [
        {
          "output_type": "execute_result",
          "data": {
            "text/plain": [
              "<tf.Tensor: shape=(2, 3, 4), dtype=int32, numpy=\n",
              "array([[[ 1,  2,  3,  4],\n",
              "        [ 5,  6,  7,  8],\n",
              "        [ 9, 10, 11, 12]],\n",
              "\n",
              "       [[13, 14, 15, 16],\n",
              "        [17, 18, 19, 20],\n",
              "        [21, 22, 23, 24]]], dtype=int32)>"
            ]
          },
          "metadata": {
            "tags": []
          },
          "execution_count": 57
        }
      ]
    },
    {
      "cell_type": "code",
      "metadata": {
        "colab": {
          "base_uri": "https://localhost:8080/"
        },
        "id": "hVWfmVDkXi8h",
        "outputId": "a139c136-dd29-413d-b47d-d9c02934a30f"
      },
      "source": [
        "#Display both of the tensors\n",
        "converted_np_to_tensor1, converted_np_to_tensor\n"
      ],
      "execution_count": null,
      "outputs": [
        {
          "output_type": "execute_result",
          "data": {
            "text/plain": [
              "(<tf.Tensor: shape=(2, 3, 4), dtype=int32, numpy=\n",
              " array([[[ 1,  2,  3,  4],\n",
              "         [ 5,  6,  7,  8],\n",
              "         [ 9, 10, 11, 12]],\n",
              " \n",
              "        [[13, 14, 15, 16],\n",
              "         [17, 18, 19, 20],\n",
              "         [21, 22, 23, 24]]], dtype=int32)>,\n",
              " <tf.Tensor: shape=(24,), dtype=int32, numpy=\n",
              " array([ 1,  2,  3,  4,  5,  6,  7,  8,  9, 10, 11, 12, 13, 14, 15, 16, 17,\n",
              "        18, 19, 20, 21, 22, 23, 24], dtype=int32)>)"
            ]
          },
          "metadata": {
            "tags": []
          },
          "execution_count": 58
        }
      ]
    },
    {
      "cell_type": "markdown",
      "metadata": {
        "id": "DBktu5MzY0iq"
      },
      "source": [
        "#**b).Getting information from tensors**"
      ]
    },
    {
      "cell_type": "markdown",
      "metadata": {
        "id": "owsLlJvFZDcL"
      },
      "source": [
        "> When dealing with tensors we will need to get information from tensors using the following attributes.\n",
        "\n",
        "Some of the information that we will need is;\n",
        "\n",
        " \n",
        "\n",
        "*   ***Shape*** ~ The length of each of the dimensions of a Tensor `tensor.shape`\n",
        "*   ***Rank***  ~ The number of Tensor Dimensions. A scalar has  rank 0 , a vector has a rank 1, a matrix has a rank 2, a tensor has a rank n. `tensor.ndim`\n",
        "*   ***Axis or dimension*** ~ A particular dimension of a tensor `tensor[0], tensor[:, 1]...` \n",
        "*   ***Size*** ~ The total number of items in a tensor `tf.size(tensor)`\n",
        "\n"
      ]
    },
    {
      "cell_type": "code",
      "metadata": {
        "colab": {
          "base_uri": "https://localhost:8080/"
        },
        "id": "Ow-gT-woZZvH",
        "outputId": "b8bd09cb-6eaf-4417-84b0-a1c5152c5bf1"
      },
      "source": [
        "#Create a rank 4 Tensor\n",
        "\n",
        "rank_4_tensor = tf.zeros(shape = (2,3,4,5))\n",
        "rank_4_tensor"
      ],
      "execution_count": null,
      "outputs": [
        {
          "output_type": "execute_result",
          "data": {
            "text/plain": [
              "<tf.Tensor: shape=(2, 3, 4, 5), dtype=float32, numpy=\n",
              "array([[[[0., 0., 0., 0., 0.],\n",
              "         [0., 0., 0., 0., 0.],\n",
              "         [0., 0., 0., 0., 0.],\n",
              "         [0., 0., 0., 0., 0.]],\n",
              "\n",
              "        [[0., 0., 0., 0., 0.],\n",
              "         [0., 0., 0., 0., 0.],\n",
              "         [0., 0., 0., 0., 0.],\n",
              "         [0., 0., 0., 0., 0.]],\n",
              "\n",
              "        [[0., 0., 0., 0., 0.],\n",
              "         [0., 0., 0., 0., 0.],\n",
              "         [0., 0., 0., 0., 0.],\n",
              "         [0., 0., 0., 0., 0.]]],\n",
              "\n",
              "\n",
              "       [[[0., 0., 0., 0., 0.],\n",
              "         [0., 0., 0., 0., 0.],\n",
              "         [0., 0., 0., 0., 0.],\n",
              "         [0., 0., 0., 0., 0.]],\n",
              "\n",
              "        [[0., 0., 0., 0., 0.],\n",
              "         [0., 0., 0., 0., 0.],\n",
              "         [0., 0., 0., 0., 0.],\n",
              "         [0., 0., 0., 0., 0.]],\n",
              "\n",
              "        [[0., 0., 0., 0., 0.],\n",
              "         [0., 0., 0., 0., 0.],\n",
              "         [0., 0., 0., 0., 0.],\n",
              "         [0., 0., 0., 0., 0.]]]], dtype=float32)>"
            ]
          },
          "metadata": {
            "tags": []
          },
          "execution_count": 59
        }
      ]
    },
    {
      "cell_type": "code",
      "metadata": {
        "colab": {
          "base_uri": "https://localhost:8080/"
        },
        "id": "ig_ZAfcBcEs4",
        "outputId": "acd757ae-681f-4d65-bfce-116068f04f82"
      },
      "source": [
        "#Get the Zeroth  Element\n",
        "\n",
        "rank_4_tensor[0]\n",
        "\n"
      ],
      "execution_count": null,
      "outputs": [
        {
          "output_type": "execute_result",
          "data": {
            "text/plain": [
              "<tf.Tensor: shape=(3, 4, 5), dtype=float32, numpy=\n",
              "array([[[0., 0., 0., 0., 0.],\n",
              "        [0., 0., 0., 0., 0.],\n",
              "        [0., 0., 0., 0., 0.],\n",
              "        [0., 0., 0., 0., 0.]],\n",
              "\n",
              "       [[0., 0., 0., 0., 0.],\n",
              "        [0., 0., 0., 0., 0.],\n",
              "        [0., 0., 0., 0., 0.],\n",
              "        [0., 0., 0., 0., 0.]],\n",
              "\n",
              "       [[0., 0., 0., 0., 0.],\n",
              "        [0., 0., 0., 0., 0.],\n",
              "        [0., 0., 0., 0., 0.],\n",
              "        [0., 0., 0., 0., 0.]]], dtype=float32)>"
            ]
          },
          "metadata": {
            "tags": []
          },
          "execution_count": 60
        }
      ]
    },
    {
      "cell_type": "code",
      "metadata": {
        "id": "t51fy_Oid9jh"
      },
      "source": [
        "#This means we get a segment of the 2 that was in the shape. Hence this will now contain shape as \n",
        "#shape(3,4,5) because we have removed the first segment."
      ],
      "execution_count": null,
      "outputs": []
    },
    {
      "cell_type": "code",
      "metadata": {
        "colab": {
          "base_uri": "https://localhost:8080/"
        },
        "id": "OvkaHcvReOPs",
        "outputId": "2faa2b49-2dc2-4583-a654-082e74b6bd56"
      },
      "source": [
        "rank_4_tensor.shape, rank_4_tensor.ndim , tf.size(rank_4_tensor)"
      ],
      "execution_count": null,
      "outputs": [
        {
          "output_type": "execute_result",
          "data": {
            "text/plain": [
              "(TensorShape([2, 3, 4, 5]), 4, <tf.Tensor: shape=(), dtype=int32, numpy=120>)"
            ]
          },
          "metadata": {
            "tags": []
          },
          "execution_count": 62
        }
      ]
    },
    {
      "cell_type": "code",
      "metadata": {
        "id": "yXN_-S_Wfs3B"
      },
      "source": [
        "#The 120 is obtained from 2*3*4*5. , the ndim is calculated by counting the number of items in the shape."
      ],
      "execution_count": null,
      "outputs": []
    },
    {
      "cell_type": "markdown",
      "metadata": {
        "id": "9DZq_DpBf9Mp"
      },
      "source": [
        "Get various attributes of our tensor."
      ]
    },
    {
      "cell_type": "code",
      "metadata": {
        "colab": {
          "base_uri": "https://localhost:8080/"
        },
        "id": "lUdq0EuVgINT",
        "outputId": "584dbff2-6c3f-4ceb-bc71-0ac9723f6f09"
      },
      "source": [
        "#using the print statement\n",
        "print(\"Datatype of every elelement: \", rank_4_tensor.dtype)\n",
        "print(\"Number of dimensions (rank): \",rank_4_tensor.ndim)\n",
        "print(\"Shape of the tensor: \", rank_4_tensor.shape)\n",
        "print(\"Elelents along 0 axis: \",rank_4_tensor.shape[0])\n",
        "print(\"Elements along the last axis: \",rank_4_tensor[-1])\n",
        "print(\"Total number of elements in our tensor: \",tf.size(rank_4_tensor))\n",
        "print(\"Total number of elements in our tensor: \",tf.size(rank_4_tensor).numpy())"
      ],
      "execution_count": null,
      "outputs": [
        {
          "output_type": "stream",
          "text": [
            "Datatype of every elelement:  <dtype: 'float32'>\n",
            "Number of dimensions (rank):  4\n",
            "Shape of the tensor:  (2, 3, 4, 5)\n",
            "Elelents along 0 axis:  2\n",
            "Elements along the last axis:  tf.Tensor(\n",
            "[[[0. 0. 0. 0. 0.]\n",
            "  [0. 0. 0. 0. 0.]\n",
            "  [0. 0. 0. 0. 0.]\n",
            "  [0. 0. 0. 0. 0.]]\n",
            "\n",
            " [[0. 0. 0. 0. 0.]\n",
            "  [0. 0. 0. 0. 0.]\n",
            "  [0. 0. 0. 0. 0.]\n",
            "  [0. 0. 0. 0. 0.]]\n",
            "\n",
            " [[0. 0. 0. 0. 0.]\n",
            "  [0. 0. 0. 0. 0.]\n",
            "  [0. 0. 0. 0. 0.]\n",
            "  [0. 0. 0. 0. 0.]]], shape=(3, 4, 5), dtype=float32)\n",
            "Total number of elements in our tensor:  tf.Tensor(120, shape=(), dtype=int32)\n",
            "Total number of elements in our tensor:  120\n"
          ],
          "name": "stdout"
        }
      ]
    },
    {
      "cell_type": "markdown",
      "metadata": {
        "id": "1_1Pgx_-i9iB"
      },
      "source": [
        "**Indexing Tensors**"
      ]
    },
    {
      "cell_type": "markdown",
      "metadata": {
        "id": "kte1E-9sjFwY"
      },
      "source": [
        "Tensors can be indexed such as python lists"
      ]
    },
    {
      "cell_type": "code",
      "metadata": {
        "colab": {
          "base_uri": "https://localhost:8080/"
        },
        "id": "6q3clIZlgQZC",
        "outputId": "9053af0c-1e9a-4578-9ee2-554f0bd651b0"
      },
      "source": [
        "#Get the first 2 ellements of each dimension.\n",
        "\n",
        "rank_4_tensor[:2,:2,:2,:2]"
      ],
      "execution_count": null,
      "outputs": [
        {
          "output_type": "execute_result",
          "data": {
            "text/plain": [
              "<tf.Tensor: shape=(2, 2, 2, 2), dtype=float32, numpy=\n",
              "array([[[[0., 0.],\n",
              "         [0., 0.]],\n",
              "\n",
              "        [[0., 0.],\n",
              "         [0., 0.]]],\n",
              "\n",
              "\n",
              "       [[[0., 0.],\n",
              "         [0., 0.]],\n",
              "\n",
              "        [[0., 0.],\n",
              "         [0., 0.]]]], dtype=float32)>"
            ]
          },
          "metadata": {
            "tags": []
          },
          "execution_count": 65
        }
      ]
    },
    {
      "cell_type": "code",
      "metadata": {
        "colab": {
          "base_uri": "https://localhost:8080/"
        },
        "id": "_UPGF5kGlNaL",
        "outputId": "7c63de8f-bc7e-4fc9-99fe-92316959f7f3"
      },
      "source": [
        "#Get the first element from each dimension from each index except for the final one.\n",
        "rank_4_tensor[ :1, :1, :1] #OR"
      ],
      "execution_count": null,
      "outputs": [
        {
          "output_type": "execute_result",
          "data": {
            "text/plain": [
              "<tf.Tensor: shape=(1, 1, 1, 5), dtype=float32, numpy=array([[[[0., 0., 0., 0., 0.]]]], dtype=float32)>"
            ]
          },
          "metadata": {
            "tags": []
          },
          "execution_count": 66
        }
      ]
    },
    {
      "cell_type": "code",
      "metadata": {
        "colab": {
          "base_uri": "https://localhost:8080/"
        },
        "id": "gXnRwwD6lrE9",
        "outputId": "86eb394a-9f98-4e7e-9d20-ffa5ea7d5357"
      },
      "source": [
        "rank_4_tensor[ :1, :1, :1, :]"
      ],
      "execution_count": null,
      "outputs": [
        {
          "output_type": "execute_result",
          "data": {
            "text/plain": [
              "<tf.Tensor: shape=(1, 1, 1, 5), dtype=float32, numpy=array([[[[0., 0., 0., 0., 0.]]]], dtype=float32)>"
            ]
          },
          "metadata": {
            "tags": []
          },
          "execution_count": 67
        }
      ]
    },
    {
      "cell_type": "markdown",
      "metadata": {
        "id": "BYRH8ujIhZVb"
      },
      "source": [
        "Create a rank 2 tensor (2 dimensions)"
      ]
    },
    {
      "cell_type": "code",
      "metadata": {
        "id": "Qfs0TiYimFLd",
        "colab": {
          "base_uri": "https://localhost:8080/"
        },
        "outputId": "693a97a1-c87b-42da-9d09-00a3f62b4f1c"
      },
      "source": [
        "rank_2_tensor = tf.constant([[10,7],[3,4]])\n",
        "rank_2_tensor.shape , rank_2_tensor.ndim"
      ],
      "execution_count": null,
      "outputs": [
        {
          "output_type": "execute_result",
          "data": {
            "text/plain": [
              "(TensorShape([2, 2]), 2)"
            ]
          },
          "metadata": {
            "tags": []
          },
          "execution_count": 68
        }
      ]
    },
    {
      "cell_type": "code",
      "metadata": {
        "colab": {
          "base_uri": "https://localhost:8080/"
        },
        "id": "Fhibc9DmrbEd",
        "outputId": "bda38f44-ad62-41a2-d857-a343079cee51"
      },
      "source": [
        "#Get the last item of each row of our rank 2 tensor\n",
        "\n",
        "rank_2_tensor[:,-1]"
      ],
      "execution_count": null,
      "outputs": [
        {
          "output_type": "execute_result",
          "data": {
            "text/plain": [
              "<tf.Tensor: shape=(2,), dtype=int32, numpy=array([7, 4], dtype=int32)>"
            ]
          },
          "metadata": {
            "tags": []
          },
          "execution_count": 69
        }
      ]
    },
    {
      "cell_type": "code",
      "metadata": {
        "colab": {
          "base_uri": "https://localhost:8080/"
        },
        "id": "Ijt4FsWqrzZS",
        "outputId": "6fbb94ff-c8db-4018-c90f-b12c22ec3655"
      },
      "source": [
        "#Adding an extra dimension to our rank tensor. Turning rank 2 tensor to rank 3 tensor but keepin the exact information\n",
        "#that is stored in our rank 2 tensor. (No changing the numbers , just the shape the numbers fit into)\n",
        "\n",
        "rank_3_tensor = rank_2_tensor[..., tf.newaxis] \n",
        "#which can also be executed as \n",
        "#rank_3_tensor = rank_2_tensor[:,:, tf.newaxis]\n",
        "rank_3_tensor"
      ],
      "execution_count": null,
      "outputs": [
        {
          "output_type": "execute_result",
          "data": {
            "text/plain": [
              "<tf.Tensor: shape=(2, 2, 1), dtype=int32, numpy=\n",
              "array([[[10],\n",
              "        [ 7]],\n",
              "\n",
              "       [[ 3],\n",
              "        [ 4]]], dtype=int32)>"
            ]
          },
          "metadata": {
            "tags": []
          },
          "execution_count": 70
        }
      ]
    },
    {
      "cell_type": "code",
      "metadata": {
        "colab": {
          "base_uri": "https://localhost:8080/"
        },
        "id": "bVont4zb0aUW",
        "outputId": "09aee9d8-c501-40ac-95c3-a206c099475c"
      },
      "source": [
        "#Another alternative to tf.newaxis\n",
        "\n",
        "tf.expand_dims(rank_2_tensor, axis =-1) # -1 means expand the final axis."
      ],
      "execution_count": null,
      "outputs": [
        {
          "output_type": "execute_result",
          "data": {
            "text/plain": [
              "<tf.Tensor: shape=(2, 2, 1), dtype=int32, numpy=\n",
              "array([[[10],\n",
              "        [ 7]],\n",
              "\n",
              "       [[ 3],\n",
              "        [ 4]]], dtype=int32)>"
            ]
          },
          "metadata": {
            "tags": []
          },
          "execution_count": 71
        }
      ]
    },
    {
      "cell_type": "markdown",
      "metadata": {
        "id": "X4O7aONI1W1P"
      },
      "source": [
        "Expands _dims Returns a tensor with a length 1 axis inserted at index axis."
      ]
    },
    {
      "cell_type": "code",
      "metadata": {
        "colab": {
          "base_uri": "https://localhost:8080/"
        },
        "id": "4Mx8IE-f09y5",
        "outputId": "dacaa78c-14d5-42e8-9186-3da5eeea6951"
      },
      "source": [
        "#Lets try with a new axis.\n",
        "tf.expand_dims(rank_2_tensor, axis =0) # 0 means expand the first axis.\n",
        "\n",
        "#in the result our extra dimension is at the front."
      ],
      "execution_count": null,
      "outputs": [
        {
          "output_type": "execute_result",
          "data": {
            "text/plain": [
              "<tf.Tensor: shape=(1, 2, 2), dtype=int32, numpy=\n",
              "array([[[10,  7],\n",
              "        [ 3,  4]]], dtype=int32)>"
            ]
          },
          "metadata": {
            "tags": []
          },
          "execution_count": 72
        }
      ]
    },
    {
      "cell_type": "markdown",
      "metadata": {
        "id": "CxGdHnZn6iSW"
      },
      "source": [
        "#**c).Math and tensors**"
      ]
    },
    {
      "cell_type": "markdown",
      "metadata": {
        "id": "Ewnka0YJ2onD"
      },
      "source": [
        "**1. Manipulating tensors(tensor operations)**"
      ]
    },
    {
      "cell_type": "code",
      "metadata": {
        "id": "LyeD7Chjs7QH"
      },
      "source": [
        "#If data is stored in tensor formats finding patterns in tensor formats ofter involves Manipulating tensors."
      ],
      "execution_count": null,
      "outputs": []
    },
    {
      "cell_type": "markdown",
      "metadata": {
        "id": "bPCualgG3Pt0"
      },
      "source": [
        "Basic operators\n",
        "\n",
        "+,-,*,/"
      ]
    },
    {
      "cell_type": "markdown",
      "metadata": {
        "id": "2LIYs4ns3T6Z"
      },
      "source": [
        "You can add values to a tensor using the addition operator"
      ]
    },
    {
      "cell_type": "code",
      "metadata": {
        "colab": {
          "base_uri": "https://localhost:8080/"
        },
        "id": "yXzdDxqg3kjW",
        "outputId": "20533c08-74d1-4e05-cf12-852a378769e8"
      },
      "source": [
        "#Addition \n",
        "tensor = tf.constant([[10,7],[3,4]])\n",
        "tensor + 10"
      ],
      "execution_count": null,
      "outputs": [
        {
          "output_type": "execute_result",
          "data": {
            "text/plain": [
              "<tf.Tensor: shape=(2, 2), dtype=int32, numpy=\n",
              "array([[20, 17],\n",
              "       [13, 14]], dtype=int32)>"
            ]
          },
          "metadata": {
            "tags": []
          },
          "execution_count": 74
        }
      ]
    },
    {
      "cell_type": "code",
      "metadata": {
        "colab": {
          "base_uri": "https://localhost:8080/"
        },
        "id": "uM6VCjzK5GAA",
        "outputId": "296accc7-ce29-485f-e5a6-2851ddff8934"
      },
      "source": [
        "#Multiplication . This is called Scalar multiplication or Element multiplication.\n",
        "\n",
        "tensor *10"
      ],
      "execution_count": null,
      "outputs": [
        {
          "output_type": "execute_result",
          "data": {
            "text/plain": [
              "<tf.Tensor: shape=(2, 2), dtype=int32, numpy=\n",
              "array([[100,  70],\n",
              "       [ 30,  40]], dtype=int32)>"
            ]
          },
          "metadata": {
            "tags": []
          },
          "execution_count": 75
        }
      ]
    },
    {
      "cell_type": "code",
      "metadata": {
        "colab": {
          "base_uri": "https://localhost:8080/"
        },
        "id": "4ZcngcT95QWe",
        "outputId": "e1591c11-0a43-42ce-fdc2-8d47375ffcf6"
      },
      "source": [
        "#Subtraction \n",
        "\n",
        "tensor -10"
      ],
      "execution_count": null,
      "outputs": [
        {
          "output_type": "execute_result",
          "data": {
            "text/plain": [
              "<tf.Tensor: shape=(2, 2), dtype=int32, numpy=\n",
              "array([[ 0, -3],\n",
              "       [-7, -6]], dtype=int32)>"
            ]
          },
          "metadata": {
            "tags": []
          },
          "execution_count": 76
        }
      ]
    },
    {
      "cell_type": "code",
      "metadata": {
        "colab": {
          "base_uri": "https://localhost:8080/"
        },
        "id": "s-WGP8da5elo",
        "outputId": "6749fcd4-a7c4-40d1-b3f8-19ef703b9d56"
      },
      "source": [
        "#We can use the tensorflow built-in function too.\n",
        "tf.multiply(tensor, 10)\n"
      ],
      "execution_count": null,
      "outputs": [
        {
          "output_type": "execute_result",
          "data": {
            "text/plain": [
              "<tf.Tensor: shape=(2, 2), dtype=int32, numpy=\n",
              "array([[100,  70],\n",
              "       [ 30,  40]], dtype=int32)>"
            ]
          },
          "metadata": {
            "tags": []
          },
          "execution_count": 77
        }
      ]
    },
    {
      "cell_type": "markdown",
      "metadata": {
        "id": "WKVe8roM66iE"
      },
      "source": [
        "**Matrix multiplication**"
      ]
    },
    {
      "cell_type": "markdown",
      "metadata": {
        "id": "780N-d4e7ONF"
      },
      "source": [
        "In Machine Learning, Matrix multiplication is one of the most common tensor operations."
      ]
    },
    {
      "cell_type": "markdown",
      "metadata": {
        "id": "rktVqvjT77v9"
      },
      "source": [
        "For here , we need to do the dot product, and not the scalar multiplication"
      ]
    },
    {
      "cell_type": "markdown",
      "metadata": {
        "id": "b6WzZWDF8ixL"
      },
      "source": [
        "To understand this type of multiplication check it out here [Matrix Multiplication](http://matrixmultiplication.xyz/)\n"
      ]
    },
    {
      "cell_type": "markdown",
      "metadata": {
        "id": "liWwLflYEuQH"
      },
      "source": [
        "There are two rules our tensors (or matrices) need to fulfil if we are going to Matrix multiply them.\n",
        "The rules are as follows.\n",
        "> 1. The inner Dimensions must match.\n",
        "> 2. The resulting matrix has the shape of the outer dimensions."
      ]
    },
    {
      "cell_type": "markdown",
      "metadata": {
        "id": "I3dGq4F_9rcc"
      },
      "source": [
        "`tf.linalg.matmul`\n",
        "\n",
        "Multiplies matrix a by matrix b, producing a * b."
      ]
    },
    {
      "cell_type": "code",
      "metadata": {
        "colab": {
          "base_uri": "https://localhost:8080/"
        },
        "id": "V6J3Il1L9zei",
        "outputId": "92bb2091-df5b-439d-c854-5a13eca401f5"
      },
      "source": [
        "print(tensor)"
      ],
      "execution_count": null,
      "outputs": [
        {
          "output_type": "stream",
          "text": [
            "tf.Tensor(\n",
            "[[10  7]\n",
            " [ 3  4]], shape=(2, 2), dtype=int32)\n"
          ],
          "name": "stdout"
        }
      ]
    },
    {
      "cell_type": "code",
      "metadata": {
        "colab": {
          "base_uri": "https://localhost:8080/"
        },
        "id": "4XwQbmhC7Dgm",
        "outputId": "3aa16070-7e96-425e-ef27-b21eef851074"
      },
      "source": [
        "tf.matmul(tensor, tensor)"
      ],
      "execution_count": null,
      "outputs": [
        {
          "output_type": "execute_result",
          "data": {
            "text/plain": [
              "<tf.Tensor: shape=(2, 2), dtype=int32, numpy=\n",
              "array([[121,  98],\n",
              "       [ 42,  37]], dtype=int32)>"
            ]
          },
          "metadata": {
            "tags": []
          },
          "execution_count": 79
        }
      ]
    },
    {
      "cell_type": "markdown",
      "metadata": {
        "id": "SBHK1-dB_Fy6"
      },
      "source": [
        "Without the matmul it will only give the element-wise product as shown in  the next cell"
      ]
    },
    {
      "cell_type": "code",
      "metadata": {
        "colab": {
          "base_uri": "https://localhost:8080/"
        },
        "id": "kKVlk38y_Uzp",
        "outputId": "acbbcb62-3593-4313-c9fe-20cad6f54a19"
      },
      "source": [
        "tensor*tensor"
      ],
      "execution_count": null,
      "outputs": [
        {
          "output_type": "execute_result",
          "data": {
            "text/plain": [
              "<tf.Tensor: shape=(2, 2), dtype=int32, numpy=\n",
              "array([[100,  49],\n",
              "       [  9,  16]], dtype=int32)>"
            ]
          },
          "metadata": {
            "tags": []
          },
          "execution_count": 80
        }
      ]
    },
    {
      "cell_type": "code",
      "metadata": {
        "colab": {
          "base_uri": "https://localhost:8080/"
        },
        "id": "mwfHOX53-5Su",
        "outputId": "642b9057-57cc-4a51-9959-43e6d4dfec50"
      },
      "source": [
        "#Matrix multiplication with Python operator @\n",
        "tensor @ tensor\n",
        "#Which will give result same as the multiplied using matmul"
      ],
      "execution_count": null,
      "outputs": [
        {
          "output_type": "execute_result",
          "data": {
            "text/plain": [
              "<tf.Tensor: shape=(2, 2), dtype=int32, numpy=\n",
              "array([[121,  98],\n",
              "       [ 42,  37]], dtype=int32)>"
            ]
          },
          "metadata": {
            "tags": []
          },
          "execution_count": 81
        }
      ]
    },
    {
      "cell_type": "code",
      "metadata": {
        "colab": {
          "base_uri": "https://localhost:8080/"
        },
        "id": "sxR2hBMzAd-n",
        "outputId": "17e152c2-656b-4789-fdb5-4346a9bcf229"
      },
      "source": [
        "tensor.shape"
      ],
      "execution_count": null,
      "outputs": [
        {
          "output_type": "execute_result",
          "data": {
            "text/plain": [
              "TensorShape([2, 2])"
            ]
          },
          "metadata": {
            "tags": []
          },
          "execution_count": 82
        }
      ]
    },
    {
      "cell_type": "markdown",
      "metadata": {
        "id": "HNXIZ17uA2Dp"
      },
      "source": [
        "Multiply On different shapes"
      ]
    },
    {
      "cell_type": "code",
      "metadata": {
        "colab": {
          "base_uri": "https://localhost:8080/"
        },
        "id": "dTyr0iDiA8Ei",
        "outputId": "a2e8c25f-e1f2-480e-e012-f4048dd7bca8"
      },
      "source": [
        "#Create a tensor of (3,2)\n",
        "\n",
        "X = tf.constant([[1,2],[3,4,],[5,6]])\n",
        "print(X)"
      ],
      "execution_count": null,
      "outputs": [
        {
          "output_type": "stream",
          "text": [
            "tf.Tensor(\n",
            "[[1 2]\n",
            " [3 4]\n",
            " [5 6]], shape=(3, 2), dtype=int32)\n"
          ],
          "name": "stdout"
        }
      ]
    },
    {
      "cell_type": "code",
      "metadata": {
        "colab": {
          "base_uri": "https://localhost:8080/"
        },
        "id": "aKhfOwe2Ak7E",
        "outputId": "304536a1-cce7-4e96-b42b-27d59532f11f"
      },
      "source": [
        "#Create another (3,2) tensor\n",
        "Y =tf.constant([[7,8],[9,10],[11,12]])\n",
        "print(Y)"
      ],
      "execution_count": null,
      "outputs": [
        {
          "output_type": "stream",
          "text": [
            "tf.Tensor(\n",
            "[[ 7  8]\n",
            " [ 9 10]\n",
            " [11 12]], shape=(3, 2), dtype=int32)\n"
          ],
          "name": "stdout"
        }
      ]
    },
    {
      "cell_type": "code",
      "metadata": {
        "colab": {
          "base_uri": "https://localhost:8080/",
          "height": 242
        },
        "id": "CL_KmGyaBvn_",
        "outputId": "25b2ca13-b17e-4194-ed80-89dfe9d94015"
      },
      "source": [
        "#Multiply the two tensors\n",
        "X @ Y"
      ],
      "execution_count": null,
      "outputs": [
        {
          "output_type": "error",
          "ename": "InvalidArgumentError",
          "evalue": "ignored",
          "traceback": [
            "\u001b[0;31m---------------------------------------------------------------------------\u001b[0m",
            "\u001b[0;31mInvalidArgumentError\u001b[0m                      Traceback (most recent call last)",
            "\u001b[0;32m<ipython-input-85-a90f44831d9e>\u001b[0m in \u001b[0;36m<module>\u001b[0;34m()\u001b[0m\n\u001b[1;32m      1\u001b[0m \u001b[0;31m#Multiply the two tensors\u001b[0m\u001b[0;34m\u001b[0m\u001b[0;34m\u001b[0m\u001b[0;34m\u001b[0m\u001b[0m\n\u001b[0;32m----> 2\u001b[0;31m \u001b[0mX\u001b[0m \u001b[0;34m@\u001b[0m \u001b[0mY\u001b[0m\u001b[0;34m\u001b[0m\u001b[0;34m\u001b[0m\u001b[0m\n\u001b[0m",
            "\u001b[0;32m/usr/local/lib/python3.7/dist-packages/tensorflow/python/ops/math_ops.py\u001b[0m in \u001b[0;36mbinary_op_wrapper\u001b[0;34m(x, y)\u001b[0m\n\u001b[1;32m   1232\u001b[0m         \u001b[0;31m#   r_binary_op_wrapper use different force_same_dtype values.\u001b[0m\u001b[0;34m\u001b[0m\u001b[0;34m\u001b[0m\u001b[0;34m\u001b[0m\u001b[0m\n\u001b[1;32m   1233\u001b[0m         \u001b[0mx\u001b[0m\u001b[0;34m,\u001b[0m \u001b[0my\u001b[0m \u001b[0;34m=\u001b[0m \u001b[0mmaybe_promote_tensors\u001b[0m\u001b[0;34m(\u001b[0m\u001b[0mx\u001b[0m\u001b[0;34m,\u001b[0m \u001b[0my\u001b[0m\u001b[0;34m,\u001b[0m \u001b[0mforce_same_dtype\u001b[0m\u001b[0;34m=\u001b[0m\u001b[0;32mFalse\u001b[0m\u001b[0;34m)\u001b[0m\u001b[0;34m\u001b[0m\u001b[0;34m\u001b[0m\u001b[0m\n\u001b[0;32m-> 1234\u001b[0;31m         \u001b[0;32mreturn\u001b[0m \u001b[0mfunc\u001b[0m\u001b[0;34m(\u001b[0m\u001b[0mx\u001b[0m\u001b[0;34m,\u001b[0m \u001b[0my\u001b[0m\u001b[0;34m,\u001b[0m \u001b[0mname\u001b[0m\u001b[0;34m=\u001b[0m\u001b[0mname\u001b[0m\u001b[0;34m)\u001b[0m\u001b[0;34m\u001b[0m\u001b[0;34m\u001b[0m\u001b[0m\n\u001b[0m\u001b[1;32m   1235\u001b[0m       \u001b[0;32mexcept\u001b[0m \u001b[0;34m(\u001b[0m\u001b[0mTypeError\u001b[0m\u001b[0;34m,\u001b[0m \u001b[0mValueError\u001b[0m\u001b[0;34m)\u001b[0m \u001b[0;32mas\u001b[0m \u001b[0me\u001b[0m\u001b[0;34m:\u001b[0m\u001b[0;34m\u001b[0m\u001b[0;34m\u001b[0m\u001b[0m\n\u001b[1;32m   1236\u001b[0m         \u001b[0;31m# Even if dispatching the op failed, the RHS may be a tensor aware\u001b[0m\u001b[0;34m\u001b[0m\u001b[0;34m\u001b[0m\u001b[0;34m\u001b[0m\u001b[0m\n",
            "\u001b[0;32m/usr/local/lib/python3.7/dist-packages/tensorflow/python/ops/math_ops.py\u001b[0m in \u001b[0;36mmatmul_wrapper\u001b[0;34m(a, b, name)\u001b[0m\n\u001b[1;32m   3596\u001b[0m   \u001b[0;32mif\u001b[0m \u001b[0mops\u001b[0m\u001b[0;34m.\u001b[0m\u001b[0m_numpy_style_type_promotion\u001b[0m\u001b[0;34m:\u001b[0m\u001b[0;34m\u001b[0m\u001b[0;34m\u001b[0m\u001b[0m\n\u001b[1;32m   3597\u001b[0m     \u001b[0;32mreturn\u001b[0m \u001b[0ma\u001b[0m\u001b[0;34m.\u001b[0m\u001b[0m_matmul\u001b[0m\u001b[0;34m(\u001b[0m\u001b[0mb\u001b[0m\u001b[0;34m)\u001b[0m\u001b[0;34m\u001b[0m\u001b[0;34m\u001b[0m\u001b[0m\n\u001b[0;32m-> 3598\u001b[0;31m   \u001b[0;32mreturn\u001b[0m \u001b[0mmatmul\u001b[0m\u001b[0;34m(\u001b[0m\u001b[0ma\u001b[0m\u001b[0;34m,\u001b[0m \u001b[0mb\u001b[0m\u001b[0;34m,\u001b[0m \u001b[0mname\u001b[0m\u001b[0;34m=\u001b[0m\u001b[0mname\u001b[0m\u001b[0;34m)\u001b[0m\u001b[0;34m\u001b[0m\u001b[0;34m\u001b[0m\u001b[0m\n\u001b[0m\u001b[1;32m   3599\u001b[0m \u001b[0mmatmul_wrapper\u001b[0m\u001b[0;34m.\u001b[0m\u001b[0m__doc__\u001b[0m \u001b[0;34m=\u001b[0m \u001b[0mmatmul\u001b[0m\u001b[0;34m.\u001b[0m\u001b[0m__doc__\u001b[0m\u001b[0;34m\u001b[0m\u001b[0;34m\u001b[0m\u001b[0m\n\u001b[1;32m   3600\u001b[0m \u001b[0m_OverrideBinaryOperatorHelper\u001b[0m\u001b[0;34m(\u001b[0m\u001b[0mmatmul_wrapper\u001b[0m\u001b[0;34m,\u001b[0m \u001b[0;34m\"matmul\"\u001b[0m\u001b[0;34m)\u001b[0m\u001b[0;34m\u001b[0m\u001b[0;34m\u001b[0m\u001b[0m\n",
            "\u001b[0;32m/usr/local/lib/python3.7/dist-packages/tensorflow/python/util/dispatch.py\u001b[0m in \u001b[0;36mwrapper\u001b[0;34m(*args, **kwargs)\u001b[0m\n\u001b[1;32m    204\u001b[0m     \u001b[0;34m\"\"\"Call target, and fall back on dispatchers if there is a TypeError.\"\"\"\u001b[0m\u001b[0;34m\u001b[0m\u001b[0;34m\u001b[0m\u001b[0m\n\u001b[1;32m    205\u001b[0m     \u001b[0;32mtry\u001b[0m\u001b[0;34m:\u001b[0m\u001b[0;34m\u001b[0m\u001b[0;34m\u001b[0m\u001b[0m\n\u001b[0;32m--> 206\u001b[0;31m       \u001b[0;32mreturn\u001b[0m \u001b[0mtarget\u001b[0m\u001b[0;34m(\u001b[0m\u001b[0;34m*\u001b[0m\u001b[0margs\u001b[0m\u001b[0;34m,\u001b[0m \u001b[0;34m**\u001b[0m\u001b[0mkwargs\u001b[0m\u001b[0;34m)\u001b[0m\u001b[0;34m\u001b[0m\u001b[0;34m\u001b[0m\u001b[0m\n\u001b[0m\u001b[1;32m    207\u001b[0m     \u001b[0;32mexcept\u001b[0m \u001b[0;34m(\u001b[0m\u001b[0mTypeError\u001b[0m\u001b[0;34m,\u001b[0m \u001b[0mValueError\u001b[0m\u001b[0;34m)\u001b[0m\u001b[0;34m:\u001b[0m\u001b[0;34m\u001b[0m\u001b[0;34m\u001b[0m\u001b[0m\n\u001b[1;32m    208\u001b[0m       \u001b[0;31m# Note: convert_to_eager_tensor currently raises a ValueError, not a\u001b[0m\u001b[0;34m\u001b[0m\u001b[0;34m\u001b[0m\u001b[0;34m\u001b[0m\u001b[0m\n",
            "\u001b[0;32m/usr/local/lib/python3.7/dist-packages/tensorflow/python/ops/math_ops.py\u001b[0m in \u001b[0;36mmatmul\u001b[0;34m(a, b, transpose_a, transpose_b, adjoint_a, adjoint_b, a_is_sparse, b_is_sparse, name)\u001b[0m\n\u001b[1;32m   3488\u001b[0m     \u001b[0;32melse\u001b[0m\u001b[0;34m:\u001b[0m\u001b[0;34m\u001b[0m\u001b[0;34m\u001b[0m\u001b[0m\n\u001b[1;32m   3489\u001b[0m       return gen_math_ops.mat_mul(\n\u001b[0;32m-> 3490\u001b[0;31m           a, b, transpose_a=transpose_a, transpose_b=transpose_b, name=name)\n\u001b[0m\u001b[1;32m   3491\u001b[0m \u001b[0;34m\u001b[0m\u001b[0m\n\u001b[1;32m   3492\u001b[0m \u001b[0;34m\u001b[0m\u001b[0m\n",
            "\u001b[0;32m/usr/local/lib/python3.7/dist-packages/tensorflow/python/ops/gen_math_ops.py\u001b[0m in \u001b[0;36mmat_mul\u001b[0;34m(a, b, transpose_a, transpose_b, name)\u001b[0m\n\u001b[1;32m   5698\u001b[0m       \u001b[0;32mreturn\u001b[0m \u001b[0m_result\u001b[0m\u001b[0;34m\u001b[0m\u001b[0;34m\u001b[0m\u001b[0m\n\u001b[1;32m   5699\u001b[0m     \u001b[0;32mexcept\u001b[0m \u001b[0m_core\u001b[0m\u001b[0;34m.\u001b[0m\u001b[0m_NotOkStatusException\u001b[0m \u001b[0;32mas\u001b[0m \u001b[0me\u001b[0m\u001b[0;34m:\u001b[0m\u001b[0;34m\u001b[0m\u001b[0;34m\u001b[0m\u001b[0m\n\u001b[0;32m-> 5700\u001b[0;31m       \u001b[0m_ops\u001b[0m\u001b[0;34m.\u001b[0m\u001b[0mraise_from_not_ok_status\u001b[0m\u001b[0;34m(\u001b[0m\u001b[0me\u001b[0m\u001b[0;34m,\u001b[0m \u001b[0mname\u001b[0m\u001b[0;34m)\u001b[0m\u001b[0;34m\u001b[0m\u001b[0;34m\u001b[0m\u001b[0m\n\u001b[0m\u001b[1;32m   5701\u001b[0m     \u001b[0;32mexcept\u001b[0m \u001b[0m_core\u001b[0m\u001b[0;34m.\u001b[0m\u001b[0m_FallbackException\u001b[0m\u001b[0;34m:\u001b[0m\u001b[0;34m\u001b[0m\u001b[0;34m\u001b[0m\u001b[0m\n\u001b[1;32m   5702\u001b[0m       \u001b[0;32mpass\u001b[0m\u001b[0;34m\u001b[0m\u001b[0;34m\u001b[0m\u001b[0m\n",
            "\u001b[0;32m/usr/local/lib/python3.7/dist-packages/tensorflow/python/framework/ops.py\u001b[0m in \u001b[0;36mraise_from_not_ok_status\u001b[0;34m(e, name)\u001b[0m\n\u001b[1;32m   6895\u001b[0m   \u001b[0mmessage\u001b[0m \u001b[0;34m=\u001b[0m \u001b[0me\u001b[0m\u001b[0;34m.\u001b[0m\u001b[0mmessage\u001b[0m \u001b[0;34m+\u001b[0m \u001b[0;34m(\u001b[0m\u001b[0;34m\" name: \"\u001b[0m \u001b[0;34m+\u001b[0m \u001b[0mname\u001b[0m \u001b[0;32mif\u001b[0m \u001b[0mname\u001b[0m \u001b[0;32mis\u001b[0m \u001b[0;32mnot\u001b[0m \u001b[0;32mNone\u001b[0m \u001b[0;32melse\u001b[0m \u001b[0;34m\"\"\u001b[0m\u001b[0;34m)\u001b[0m\u001b[0;34m\u001b[0m\u001b[0;34m\u001b[0m\u001b[0m\n\u001b[1;32m   6896\u001b[0m   \u001b[0;31m# pylint: disable=protected-access\u001b[0m\u001b[0;34m\u001b[0m\u001b[0;34m\u001b[0m\u001b[0;34m\u001b[0m\u001b[0m\n\u001b[0;32m-> 6897\u001b[0;31m   \u001b[0msix\u001b[0m\u001b[0;34m.\u001b[0m\u001b[0mraise_from\u001b[0m\u001b[0;34m(\u001b[0m\u001b[0mcore\u001b[0m\u001b[0;34m.\u001b[0m\u001b[0m_status_to_exception\u001b[0m\u001b[0;34m(\u001b[0m\u001b[0me\u001b[0m\u001b[0;34m.\u001b[0m\u001b[0mcode\u001b[0m\u001b[0;34m,\u001b[0m \u001b[0mmessage\u001b[0m\u001b[0;34m)\u001b[0m\u001b[0;34m,\u001b[0m \u001b[0;32mNone\u001b[0m\u001b[0;34m)\u001b[0m\u001b[0;34m\u001b[0m\u001b[0;34m\u001b[0m\u001b[0m\n\u001b[0m\u001b[1;32m   6898\u001b[0m   \u001b[0;31m# pylint: enable=protected-access\u001b[0m\u001b[0;34m\u001b[0m\u001b[0;34m\u001b[0m\u001b[0;34m\u001b[0m\u001b[0m\n\u001b[1;32m   6899\u001b[0m \u001b[0;34m\u001b[0m\u001b[0m\n",
            "\u001b[0;32m/usr/local/lib/python3.7/dist-packages/six.py\u001b[0m in \u001b[0;36mraise_from\u001b[0;34m(value, from_value)\u001b[0m\n",
            "\u001b[0;31mInvalidArgumentError\u001b[0m: In[0] mismatch In[1] shape: 2 vs. 3: [3,2] [3,2] 0 0 [Op:MatMul]"
          ]
        }
      ]
    },
    {
      "cell_type": "code",
      "metadata": {
        "id": "baBenNHHClqL"
      },
      "source": [
        "# We get an incompatibility / mismatch error when the matrix is 3by2\n",
        "#WHat if we try the other method of matmul"
      ],
      "execution_count": null,
      "outputs": []
    },
    {
      "cell_type": "markdown",
      "metadata": {
        "id": "Du_CvmqwKFC6"
      },
      "source": [
        "![Screenshot (442).png](data:image/png;base64,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)"
      ]
    },
    {
      "cell_type": "code",
      "metadata": {
        "id": "qDUs90w9KWrC"
      },
      "source": [
        "#Matrix manipulation is also called Dot product , we will use it to solve our issue with the errors above."
      ],
      "execution_count": null,
      "outputs": []
    },
    {
      "cell_type": "code",
      "metadata": {
        "id": "JeI2EoD6LLz1"
      },
      "source": [
        "#WE do this by first changing the shape."
      ],
      "execution_count": null,
      "outputs": []
    },
    {
      "cell_type": "code",
      "metadata": {
        "colab": {
          "base_uri": "https://localhost:8080/"
        },
        "id": "fDPXqaVWMR3V",
        "outputId": "cf6cc48e-fa14-48c7-fb1d-6d103090006a"
      },
      "source": [
        "#Lets see the original first\n",
        "print(Y)"
      ],
      "execution_count": null,
      "outputs": [
        {
          "output_type": "stream",
          "text": [
            "tf.Tensor(\n",
            "[[ 7  8]\n",
            " [ 9 10]\n",
            " [11 12]], shape=(3, 2), dtype=int32)\n"
          ],
          "name": "stdout"
        }
      ]
    },
    {
      "cell_type": "code",
      "metadata": {
        "colab": {
          "base_uri": "https://localhost:8080/"
        },
        "id": "FcVqGPhkMEV3",
        "outputId": "8a0b44b7-c4d0-4faf-cd64-9e618c95dbe8"
      },
      "source": [
        "reshaped_y =tf.reshape(Y, shape = (2,3))\n",
        "reshaped_y"
      ],
      "execution_count": null,
      "outputs": [
        {
          "output_type": "execute_result",
          "data": {
            "text/plain": [
              "<tf.Tensor: shape=(2, 3), dtype=int32, numpy=\n",
              "array([[ 7,  8,  9],\n",
              "       [10, 11, 12]], dtype=int32)>"
            ]
          },
          "metadata": {
            "tags": []
          },
          "execution_count": 99
        }
      ]
    },
    {
      "cell_type": "markdown",
      "metadata": {
        "id": "mSJHiZZAMogu"
      },
      "source": [
        "Take a keen note in the shape change that has changed from (3,2) to (2,3)"
      ]
    },
    {
      "cell_type": "code",
      "metadata": {
        "colab": {
          "base_uri": "https://localhost:8080/"
        },
        "id": "iU90LRPmMzUj",
        "outputId": "47197772-7616-4265-864f-03e9668d968f"
      },
      "source": [
        "#Now lets try to multiply with the reshaped Y\n",
        "X @ reshaped_y"
      ],
      "execution_count": null,
      "outputs": [
        {
          "output_type": "execute_result",
          "data": {
            "text/plain": [
              "<tf.Tensor: shape=(3, 3), dtype=int32, numpy=\n",
              "array([[ 27,  30,  33],\n",
              "       [ 61,  68,  75],\n",
              "       [ 95, 106, 117]], dtype=int32)>"
            ]
          },
          "metadata": {
            "tags": []
          },
          "execution_count": 100
        }
      ]
    },
    {
      "cell_type": "code",
      "metadata": {
        "colab": {
          "base_uri": "https://localhost:8080/"
        },
        "id": "97co-AfAN4rL",
        "outputId": "979d66dd-d34d-47ab-b4bf-4754e6d5bef4"
      },
      "source": [
        "tf.matmul(X,reshaped_y)"
      ],
      "execution_count": null,
      "outputs": [
        {
          "output_type": "execute_result",
          "data": {
            "text/plain": [
              "<tf.Tensor: shape=(3, 3), dtype=int32, numpy=\n",
              "array([[ 27,  30,  33],\n",
              "       [ 61,  68,  75],\n",
              "       [ 95, 106, 117]], dtype=int32)>"
            ]
          },
          "metadata": {
            "tags": []
          },
          "execution_count": 101
        }
      ]
    },
    {
      "cell_type": "markdown",
      "metadata": {
        "id": "VeSOJY7gOCme"
      },
      "source": [
        "We now get  the correct answers of a 3 by 3 matrix."
      ]
    },
    {
      "cell_type": "markdown",
      "metadata": {
        "id": "qk0WcpswOVvh"
      },
      "source": [
        "❓What if we reshaped the X instead of Y?"
      ]
    },
    {
      "cell_type": "code",
      "metadata": {
        "colab": {
          "base_uri": "https://localhost:8080/"
        },
        "id": "l4SS3DPeOa8T",
        "outputId": "45a2f34f-efe2-4753-98c1-100d3b2e7a61"
      },
      "source": [
        "\n",
        "tf.matmul(tf.reshape(X , shape= (2,3)), Y)"
      ],
      "execution_count": null,
      "outputs": [
        {
          "output_type": "execute_result",
          "data": {
            "text/plain": [
              "<tf.Tensor: shape=(2, 2), dtype=int32, numpy=\n",
              "array([[ 58,  64],\n",
              "       [139, 154]], dtype=int32)>"
            ]
          },
          "metadata": {
            "tags": []
          },
          "execution_count": 102
        }
      ]
    },
    {
      "cell_type": "markdown",
      "metadata": {
        "id": "-K8wNTygQOmP"
      },
      "source": [
        "❓ Why is  the answer in a 2 by 2 Dimension?\n",
        "\n",
        "💠Answer - The resulting matrix is a 2*2 because it the outer dimensions.How do we prove the outer dimensions. Let's check it up  by doing the shapes."
      ]
    },
    {
      "cell_type": "code",
      "metadata": {
        "colab": {
          "base_uri": "https://localhost:8080/"
        },
        "id": "7QI2jk8eRaEU",
        "outputId": "eb087a1b-e704-4b0c-84b4-cae81b123764"
      },
      "source": [
        "tf.reshape(X, shape =(2,3)).shape , Y.shape"
      ],
      "execution_count": null,
      "outputs": [
        {
          "output_type": "execute_result",
          "data": {
            "text/plain": [
              "(TensorShape([2, 3]), TensorShape([3, 2]))"
            ]
          },
          "metadata": {
            "tags": []
          },
          "execution_count": 103
        }
      ]
    },
    {
      "cell_type": "code",
      "metadata": {
        "id": "Gu5n34ttRsw9"
      },
      "source": [
        "#As you can see the top matrices the outer digits are 2 and 2 which make the result a 2*2"
      ],
      "execution_count": null,
      "outputs": []
    },
    {
      "cell_type": "code",
      "metadata": {
        "id": "6o8SgNWFSAVV"
      },
      "source": [
        "#The above 3 *3 output was as the following  due to the outer dimension shape result as shown below"
      ],
      "execution_count": null,
      "outputs": []
    },
    {
      "cell_type": "code",
      "metadata": {
        "colab": {
          "base_uri": "https://localhost:8080/"
        },
        "id": "EOlaIrctR6TY",
        "outputId": "a796131f-0a61-4feb-bab5-388d2a073521"
      },
      "source": [
        "Y.shape,tf.reshape(X, shape =(2,3)).shape"
      ],
      "execution_count": null,
      "outputs": [
        {
          "output_type": "execute_result",
          "data": {
            "text/plain": [
              "(TensorShape([3, 2]), TensorShape([2, 3]))"
            ]
          },
          "metadata": {
            "tags": []
          },
          "execution_count": 106
        }
      ]
    },
    {
      "cell_type": "markdown",
      "metadata": {
        "id": "QIz8E6L-SvQR"
      },
      "source": [
        "🛠 Transpose is almost same as reshape but with different results."
      ]
    },
    {
      "cell_type": "code",
      "metadata": {
        "colab": {
          "base_uri": "https://localhost:8080/"
        },
        "id": "lWtfN2ZdTG3r",
        "outputId": "6e129af8-6033-4e11-b504-1b42e0b9ff5c"
      },
      "source": [
        "#Lets inspect and make our observations.\n",
        "\n",
        "X,tf.transpose(X),tf.reshape(X, shape= (2,3))"
      ],
      "execution_count": null,
      "outputs": [
        {
          "output_type": "execute_result",
          "data": {
            "text/plain": [
              "(<tf.Tensor: shape=(3, 2), dtype=int32, numpy=\n",
              " array([[1, 2],\n",
              "        [3, 4],\n",
              "        [5, 6]], dtype=int32)>, <tf.Tensor: shape=(2, 3), dtype=int32, numpy=\n",
              " array([[1, 3, 5],\n",
              "        [2, 4, 6]], dtype=int32)>, <tf.Tensor: shape=(2, 3), dtype=int32, numpy=\n",
              " array([[1, 2, 3],\n",
              "        [4, 5, 6]], dtype=int32)>)"
            ]
          },
          "metadata": {
            "tags": []
          },
          "execution_count": 107
        }
      ]
    },
    {
      "cell_type": "markdown",
      "metadata": {
        "id": "wh8ju_kDTH7Q"
      },
      "source": [
        "> ***Transpose*** -will flip axes.\n",
        "\n",
        "> ***Reshape*** - shuffles the tensor to the specified shape"
      ]
    },
    {
      "cell_type": "markdown",
      "metadata": {
        "id": "-Hzdv9UXVB67"
      },
      "source": [
        "So, lets try Matrix Multiplication with transpose rather than reshape."
      ]
    },
    {
      "cell_type": "code",
      "metadata": {
        "colab": {
          "base_uri": "https://localhost:8080/"
        },
        "id": "SxQQgzobTjLJ",
        "outputId": "36a7567e-292f-4a7a-f9ff-0f47ef81c123"
      },
      "source": [
        "tf.matmul(tf.transpose(X), Y)"
      ],
      "execution_count": null,
      "outputs": [
        {
          "output_type": "execute_result",
          "data": {
            "text/plain": [
              "<tf.Tensor: shape=(2, 2), dtype=int32, numpy=\n",
              "array([[ 89,  98],\n",
              "       [116, 128]], dtype=int32)>"
            ]
          },
          "metadata": {
            "tags": []
          },
          "execution_count": 108
        }
      ]
    },
    {
      "cell_type": "markdown",
      "metadata": {
        "id": "xNmdafljWFOh"
      },
      "source": [
        "**The Dot product**"
      ]
    },
    {
      "cell_type": "markdown",
      "metadata": {
        "id": "rAuo9EMSWOVV"
      },
      "source": [
        "Matrix Multiplication is also called **Dot product**\n",
        "\n",
        "* You can perform  Matrix Multiplication using\n",
        "\n",
        ">  `tf.matmul()`\n",
        "\n",
        "> `tf.tensordot()`\n",
        "\n",
        "> `@`"
      ]
    },
    {
      "cell_type": "markdown",
      "metadata": {
        "id": "Qp767z6dXF5Y"
      },
      "source": [
        "Performing the Dot product on X and Y (requires X or Y to be transposed)\n"
      ]
    },
    {
      "cell_type": "code",
      "metadata": {
        "colab": {
          "base_uri": "https://localhost:8080/"
        },
        "id": "B8yngOsRYd1U",
        "outputId": "f3d641f4-2140-4236-a825-e68e5af3b82c"
      },
      "source": [
        "X, Y"
      ],
      "execution_count": null,
      "outputs": [
        {
          "output_type": "execute_result",
          "data": {
            "text/plain": [
              "(<tf.Tensor: shape=(3, 2), dtype=int32, numpy=\n",
              " array([[1, 2],\n",
              "        [3, 4],\n",
              "        [5, 6]], dtype=int32)>, <tf.Tensor: shape=(3, 2), dtype=int32, numpy=\n",
              " array([[ 7,  8],\n",
              "        [ 9, 10],\n",
              "        [11, 12]], dtype=int32)>)"
            ]
          },
          "metadata": {
            "tags": []
          },
          "execution_count": 109
        }
      ]
    },
    {
      "cell_type": "code",
      "metadata": {
        "colab": {
          "base_uri": "https://localhost:8080/"
        },
        "id": "2hR29aGpWLkM",
        "outputId": "f6806ff1-8fc5-4110-922b-2e4bcbcb6ad8"
      },
      "source": [
        "tf.tensordot(tf.transpose(X), Y, axes = 1)"
      ],
      "execution_count": null,
      "outputs": [
        {
          "output_type": "execute_result",
          "data": {
            "text/plain": [
              "<tf.Tensor: shape=(2, 2), dtype=int32, numpy=\n",
              "array([[ 89,  98],\n",
              "       [116, 128]], dtype=int32)>"
            ]
          },
          "metadata": {
            "tags": []
          },
          "execution_count": 110
        }
      ]
    },
    {
      "cell_type": "markdown",
      "metadata": {
        "id": "h_22eLA7ZBlT"
      },
      "source": [
        "**Tensordot (also known as tensor contraction)** \n",
        "\n",
        "sums the product of elements from a and b over the indices specified by a_axes and b_axes."
      ]
    },
    {
      "cell_type": "code",
      "metadata": {
        "id": "IL18ojgYZHei"
      },
      "source": [
        " #Just know that Reshape and Transposing has different answers."
      ],
      "execution_count": null,
      "outputs": []
    },
    {
      "cell_type": "markdown",
      "metadata": {
        "id": "ZbKrNRQPZdyn"
      },
      "source": [
        "Perform Matrix multiplication between X and Y (transposed)"
      ]
    },
    {
      "cell_type": "code",
      "metadata": {
        "colab": {
          "base_uri": "https://localhost:8080/"
        },
        "id": "fDBdlWTpZ2Tu",
        "outputId": "95b0a475-ded8-4188-e8f7-487da651c3d8"
      },
      "source": [
        "#Perform Matrix multiplication between X and Y (transposed)\n",
        "tf.matmul(X, tf.transpose(Y))"
      ],
      "execution_count": null,
      "outputs": [
        {
          "output_type": "execute_result",
          "data": {
            "text/plain": [
              "<tf.Tensor: shape=(3, 3), dtype=int32, numpy=\n",
              "array([[ 23,  29,  35],\n",
              "       [ 53,  67,  81],\n",
              "       [ 83, 105, 127]], dtype=int32)>"
            ]
          },
          "metadata": {
            "tags": []
          },
          "execution_count": 112
        }
      ]
    },
    {
      "cell_type": "code",
      "metadata": {
        "colab": {
          "base_uri": "https://localhost:8080/"
        },
        "id": "G9mJahsHaK6G",
        "outputId": "913fab89-8788-4990-e84c-1d08ecb7a101"
      },
      "source": [
        "#Perform Matrix multiplication between X and Y (reshaped)\n",
        "tf.matmul(X,tf.reshape(Y,shape = (2,3)))"
      ],
      "execution_count": null,
      "outputs": [
        {
          "output_type": "execute_result",
          "data": {
            "text/plain": [
              "<tf.Tensor: shape=(3, 3), dtype=int32, numpy=\n",
              "array([[ 27,  30,  33],\n",
              "       [ 61,  68,  75],\n",
              "       [ 95, 106, 117]], dtype=int32)>"
            ]
          },
          "metadata": {
            "tags": []
          },
          "execution_count": 113
        }
      ]
    },
    {
      "cell_type": "markdown",
      "metadata": {
        "id": "V2JY4QJ_a9nr"
      },
      "source": [
        "Lets check shape of Y, reshaped Y and Transposed Y"
      ]
    },
    {
      "cell_type": "code",
      "metadata": {
        "colab": {
          "base_uri": "https://localhost:8080/"
        },
        "id": "WnlNULbgbDCb",
        "outputId": "70de8c34-ae63-4df7-bd0a-435bce9835f3"
      },
      "source": [
        "print(\"Normal Y: \",Y)\n",
        "print(\"****************************\")\n",
        "print(\"Reshaped Y to (2,3): \",tf.reshape(Y, shape = (2,3)))\n",
        "print(\"****************************\")\n",
        "print(\"Transposed Y: \",tf.transpose(Y))"
      ],
      "execution_count": null,
      "outputs": [
        {
          "output_type": "stream",
          "text": [
            "Normal Y:  tf.Tensor(\n",
            "[[ 7  8]\n",
            " [ 9 10]\n",
            " [11 12]], shape=(3, 2), dtype=int32)\n",
            "****************************\n",
            "Reshaped Y to (2,3):  tf.Tensor(\n",
            "[[ 7  8  9]\n",
            " [10 11 12]], shape=(2, 3), dtype=int32)\n",
            "****************************\n",
            "Transposed Y:  tf.Tensor(\n",
            "[[ 7  9 11]\n",
            " [ 8 10 12]], shape=(2, 3), dtype=int32)\n"
          ],
          "name": "stdout"
        }
      ]
    },
    {
      "cell_type": "markdown",
      "metadata": {
        "id": "MDlBP_mgc_8n"
      },
      "source": [
        "Generally, when performing matrix multiplication on two tensors and one of the axis does not line up , you will transpose rather than reshapeone of the tensors to satisfy matrix multiplication rules."
      ]
    },
    {
      "cell_type": "markdown",
      "metadata": {
        "id": "WJyYKYhJdtnS"
      },
      "source": [
        "**Changing the datatype of the tensor**"
      ]
    },
    {
      "cell_type": "code",
      "metadata": {
        "id": "KotcicC9bUZm"
      },
      "source": [
        ""
      ],
      "execution_count": null,
      "outputs": []
    },
    {
      "cell_type": "markdown",
      "metadata": {
        "id": "Nw-bpZ6-21qP"
      },
      "source": [
        "# **e).Tensors and Datatypes**"
      ]
    },
    {
      "cell_type": "markdown",
      "metadata": {
        "id": "m1QdxqRc3mFv"
      },
      "source": [
        "The default of most tensors is int 32. However, one can change these in some methods below."
      ]
    },
    {
      "cell_type": "markdown",
      "metadata": {
        "id": "-JoGnGL130e6"
      },
      "source": [
        "## Changing the datatype of tensors"
      ]
    },
    {
      "cell_type": "code",
      "metadata": {
        "colab": {
          "base_uri": "https://localhost:8080/"
        },
        "id": "PfIJSsfH3gPf",
        "outputId": "6286cf01-d0e0-4aea-a99b-037a5d0d133b"
      },
      "source": [
        "#Creating Tensors with default Float32 instead of Int32\n",
        "#The data types are defined by the info in the tensor.\n",
        "b = tf.constant([1.7,1.4])\n",
        "#Check dtype\n",
        "b.dtype"
      ],
      "execution_count": null,
      "outputs": [
        {
          "output_type": "execute_result",
          "data": {
            "text/plain": [
              "tf.float32"
            ]
          },
          "metadata": {
            "tags": []
          },
          "execution_count": 115
        }
      ]
    },
    {
      "cell_type": "code",
      "metadata": {
        "colab": {
          "base_uri": "https://localhost:8080/"
        },
        "id": "8PdJVwfL5Otw",
        "outputId": "970035ed-ba03-485d-f0cd-c671238585c3"
      },
      "source": [
        "c= tf.constant([7,10])\n",
        "c.dtype"
      ],
      "execution_count": null,
      "outputs": [
        {
          "output_type": "execute_result",
          "data": {
            "text/plain": [
              "tf.int32"
            ]
          },
          "metadata": {
            "tags": []
          },
          "execution_count": 116
        }
      ]
    },
    {
      "cell_type": "code",
      "metadata": {
        "id": "2TOKh0xj5_tK"
      },
      "source": [
        "#Change from float32 to float16(Reduced precision)"
      ],
      "execution_count": null,
      "outputs": []
    },
    {
      "cell_type": "markdown",
      "metadata": {
        "id": "Py-IAN517DQ5"
      },
      "source": [
        "Today, most models use the **float32 dtype**, which takes **32 bits of memory**. However, there are two lower-precision dtypes, **float16** and **bfloat16**, each which take 16 bits of memory instead. Modern accelerators can run operations faster in the 16-bit dtypes, as they have specialized hardware to run 16-bit computations and 16-bit dtypes can be read from memory faster."
      ]
    },
    {
      "cell_type": "code",
      "metadata": {
        "id": "6zPl3cnP7Oju"
      },
      "source": [
        "#To change we will use Cast. \n",
        "#Casts a tensor to a new type."
      ],
      "execution_count": null,
      "outputs": []
    },
    {
      "cell_type": "code",
      "metadata": {
        "colab": {
          "base_uri": "https://localhost:8080/"
        },
        "id": "Po-gb_cl8LXj",
        "outputId": "0aef6349-e504-4e7a-c191-c5eb46a971d4"
      },
      "source": [
        "b= tf.cast(b, tf.int32)\n",
        "b"
      ],
      "execution_count": null,
      "outputs": [
        {
          "output_type": "execute_result",
          "data": {
            "text/plain": [
              "<tf.Tensor: shape=(2,), dtype=int32, numpy=array([1, 1], dtype=int32)>"
            ]
          },
          "metadata": {
            "tags": []
          },
          "execution_count": 119
        }
      ]
    },
    {
      "cell_type": "code",
      "metadata": {
        "colab": {
          "base_uri": "https://localhost:8080/"
        },
        "id": "59iNq9x2-cE1",
        "outputId": "c41fb946-c8d2-4013-994b-b843ca3ecb58"
      },
      "source": [
        "#Change from int32 to float32\n",
        "e =tf.cast(c, tf.float32)\n",
        "e"
      ],
      "execution_count": null,
      "outputs": [
        {
          "output_type": "execute_result",
          "data": {
            "text/plain": [
              "<tf.Tensor: shape=(2,), dtype=float32, numpy=array([ 7., 10.], dtype=float32)>"
            ]
          },
          "metadata": {
            "tags": []
          },
          "execution_count": 120
        }
      ]
    },
    {
      "cell_type": "code",
      "metadata": {
        "colab": {
          "base_uri": "https://localhost:8080/"
        },
        "id": "NG-Idbyy_vWL",
        "outputId": "bb74b8a9-f3b7-453c-914c-b53409aea02e"
      },
      "source": [
        "#Change float32 to float16\n",
        "f = tf.cast(e,tf.float16)\n",
        "f"
      ],
      "execution_count": null,
      "outputs": [
        {
          "output_type": "execute_result",
          "data": {
            "text/plain": [
              "<tf.Tensor: shape=(2,), dtype=float16, numpy=array([ 7., 10.], dtype=float16)>"
            ]
          },
          "metadata": {
            "tags": []
          },
          "execution_count": 121
        }
      ]
    },
    {
      "cell_type": "markdown",
      "metadata": {
        "id": "ky54yblV-ZCe"
      },
      "source": [
        "# **f).Aggregation of tensors**"
      ]
    },
    {
      "cell_type": "markdown",
      "metadata": {
        "id": "9DhnD0ZE4g6r"
      },
      "source": [
        "**Aggregating tensors** is condesning them from mutiple values down to a smaller amount of values."
      ]
    },
    {
      "cell_type": "markdown",
      "metadata": {
        "id": "h96s505r5EPH"
      },
      "source": [
        "i). Getting the absolute values"
      ]
    },
    {
      "cell_type": "code",
      "metadata": {
        "colab": {
          "base_uri": "https://localhost:8080/"
        },
        "id": "n61y_bwt46Tj",
        "outputId": "30a08ac4-8bee-4631-fc53-b1f8d35d99b5"
      },
      "source": [
        "D = tf.constant([-7,-10])\n",
        "D"
      ],
      "execution_count": null,
      "outputs": [
        {
          "output_type": "execute_result",
          "data": {
            "text/plain": [
              "<tf.Tensor: shape=(2,), dtype=int32, numpy=array([ -7, -10], dtype=int32)>"
            ]
          },
          "metadata": {
            "tags": []
          },
          "execution_count": 122
        }
      ]
    },
    {
      "cell_type": "code",
      "metadata": {
        "colab": {
          "base_uri": "https://localhost:8080/"
        },
        "id": "4kXWBbug4bFF",
        "outputId": "1901a042-9b77-4920-8bb0-cee29689b86c"
      },
      "source": [
        "#to get the absolute values\n",
        "tf.abs(D)"
      ],
      "execution_count": null,
      "outputs": [
        {
          "output_type": "execute_result",
          "data": {
            "text/plain": [
              "<tf.Tensor: shape=(2,), dtype=int32, numpy=array([ 7, 10], dtype=int32)>"
            ]
          },
          "metadata": {
            "tags": []
          },
          "execution_count": 123
        }
      ]
    },
    {
      "cell_type": "markdown",
      "metadata": {
        "id": "OTQcORJ_69mp"
      },
      "source": [
        "Different forms of aggregation\n",
        "\n",
        "* Get the minimum.\n",
        "\n",
        "* Get the maximum.\n",
        "\n",
        "* Get the sum of the tensor.\n",
        "\n",
        "* Get the mean of the tensor."
      ]
    },
    {
      "cell_type": "code",
      "metadata": {
        "colab": {
          "base_uri": "https://localhost:8080/"
        },
        "id": "omI0-yyr8HMz",
        "outputId": "0f892a13-757d-497b-c6d0-660312105cba"
      },
      "source": [
        "#To practice , we will create a random tensor with values between 0 and 100 of size 50.\n",
        "\n",
        "E = tf.constant(np.random.randint(0, 100, size=50))\n",
        "E"
      ],
      "execution_count": null,
      "outputs": [
        {
          "output_type": "execute_result",
          "data": {
            "text/plain": [
              "<tf.Tensor: shape=(50,), dtype=int64, numpy=\n",
              "array([ 5, 65, 97, 73,  6, 24, 25, 42, 49, 31,  4, 14, 50, 17, 88, 93, 54,\n",
              "       92, 82,  0, 25, 75, 19, 90,  0, 84, 36, 38, 77,  1, 70, 90, 10, 56,\n",
              "       11, 84, 28, 75, 95, 83, 96, 39, 47, 68, 28,  0,  9, 95, 46, 22])>"
            ]
          },
          "metadata": {
            "tags": []
          },
          "execution_count": 124
        }
      ]
    },
    {
      "cell_type": "code",
      "metadata": {
        "colab": {
          "base_uri": "https://localhost:8080/"
        },
        "id": "ZUKPpnpb88N7",
        "outputId": "3b41e1a2-d7b5-4820-e724-3b5fd2d1cd68"
      },
      "source": [
        "#Check size, shape and number of dimensions\n",
        "tf.size(E), E.shape, E.ndim"
      ],
      "execution_count": null,
      "outputs": [
        {
          "output_type": "execute_result",
          "data": {
            "text/plain": [
              "(<tf.Tensor: shape=(), dtype=int32, numpy=50>, TensorShape([50]), 1)"
            ]
          },
          "metadata": {
            "tags": []
          },
          "execution_count": 125
        }
      ]
    },
    {
      "cell_type": "code",
      "metadata": {
        "colab": {
          "base_uri": "https://localhost:8080/"
        },
        "id": "Pe3Af2ld9N7r",
        "outputId": "8993d697-03d3-45fb-c99b-59ea2d187a89"
      },
      "source": [
        "#Find the minimum\n",
        "tf.reduce_min(E)"
      ],
      "execution_count": null,
      "outputs": [
        {
          "output_type": "execute_result",
          "data": {
            "text/plain": [
              "<tf.Tensor: shape=(), dtype=int64, numpy=0>"
            ]
          },
          "metadata": {
            "tags": []
          },
          "execution_count": 126
        }
      ]
    },
    {
      "cell_type": "code",
      "metadata": {
        "id": "H2WwJipV_XQB"
      },
      "source": [
        "#That means the lowest value is 0"
      ],
      "execution_count": null,
      "outputs": []
    },
    {
      "cell_type": "code",
      "metadata": {
        "colab": {
          "base_uri": "https://localhost:8080/"
        },
        "id": "Omz_S_I199-n",
        "outputId": "ec3d955c-25a9-4194-eecc-1aae541fbff7"
      },
      "source": [
        "#Find the maximum\n",
        "tf.reduce_max(E)"
      ],
      "execution_count": null,
      "outputs": [
        {
          "output_type": "execute_result",
          "data": {
            "text/plain": [
              "<tf.Tensor: shape=(), dtype=int64, numpy=97>"
            ]
          },
          "metadata": {
            "tags": []
          },
          "execution_count": 127
        }
      ]
    },
    {
      "cell_type": "code",
      "metadata": {
        "id": "LhYcgHlQ_bJD"
      },
      "source": [
        "#That means the highest value is 97."
      ],
      "execution_count": null,
      "outputs": []
    },
    {
      "cell_type": "code",
      "metadata": {
        "colab": {
          "base_uri": "https://localhost:8080/"
        },
        "id": "afsXWPRa_k5b",
        "outputId": "8e1f15b5-20ab-4ef5-9e1c-d922af214e6c"
      },
      "source": [
        "#Find the mean\n",
        "tf.reduce_mean(E)"
      ],
      "execution_count": null,
      "outputs": [
        {
          "output_type": "execute_result",
          "data": {
            "text/plain": [
              "<tf.Tensor: shape=(), dtype=int64, numpy=48>"
            ]
          },
          "metadata": {
            "tags": []
          },
          "execution_count": 128
        }
      ]
    },
    {
      "cell_type": "code",
      "metadata": {
        "colab": {
          "base_uri": "https://localhost:8080/"
        },
        "id": "anxvSqbW_uAM",
        "outputId": "e854af3d-6bd0-4874-c25a-0fad23db62f9"
      },
      "source": [
        "#Find the sum \n",
        "tf.reduce_sum(E)"
      ],
      "execution_count": null,
      "outputs": [
        {
          "output_type": "execute_result",
          "data": {
            "text/plain": [
              "<tf.Tensor: shape=(), dtype=int64, numpy=2408>"
            ]
          },
          "metadata": {
            "tags": []
          },
          "execution_count": 129
        }
      ]
    },
    {
      "cell_type": "markdown",
      "metadata": {
        "id": "NElx2g_NDF0K"
      },
      "source": [
        "We will need to import tensorflow probability for variance and Standard deviation."
      ]
    },
    {
      "cell_type": "code",
      "metadata": {
        "id": "bLydfQgVDLLZ"
      },
      "source": [
        "import tensorflow_probability as tfp"
      ],
      "execution_count": null,
      "outputs": []
    },
    {
      "cell_type": "code",
      "metadata": {
        "colab": {
          "base_uri": "https://localhost:8080/"
        },
        "id": "xbiWH_3QCAh_",
        "outputId": "814b38e6-51ef-4f74-83c7-6e6048ed6c4b"
      },
      "source": [
        "#Find the std\n",
        "tf.math.reduce_std(tf.cast(E,dtype = tf.float32))"
      ],
      "execution_count": null,
      "outputs": [
        {
          "output_type": "execute_result",
          "data": {
            "text/plain": [
              "<tf.Tensor: shape=(), dtype=float32, numpy=32.592243>"
            ]
          },
          "metadata": {
            "tags": []
          },
          "execution_count": 143
        }
      ]
    },
    {
      "cell_type": "code",
      "metadata": {
        "colab": {
          "base_uri": "https://localhost:8080/"
        },
        "id": "Ta7Qw_CQC8c_",
        "outputId": "00e373a3-cf23-4dac-d939-4689b98d8010"
      },
      "source": [
        "#Find the variance\n",
        "tfp.stats.variance(E)"
      ],
      "execution_count": null,
      "outputs": [
        {
          "output_type": "execute_result",
          "data": {
            "text/plain": [
              "<tf.Tensor: shape=(), dtype=int64, numpy=1062>"
            ]
          },
          "metadata": {
            "tags": []
          },
          "execution_count": 135
        }
      ]
    },
    {
      "cell_type": "code",
      "metadata": {
        "colab": {
          "base_uri": "https://localhost:8080/"
        },
        "id": "JV5LgwdfHcBW",
        "outputId": "9db18eb9-ecd0-485a-e6a9-512392b5a91c"
      },
      "source": [
        "#Another way\n",
        "tf.math.reduce_variance(tf.cast(E, dtype = tf.float32))"
      ],
      "execution_count": null,
      "outputs": [
        {
          "output_type": "execute_result",
          "data": {
            "text/plain": [
              "<tf.Tensor: shape=(), dtype=float32, numpy=1062.2544>"
            ]
          },
          "metadata": {
            "tags": []
          },
          "execution_count": 145
        }
      ]
    },
    {
      "cell_type": "markdown",
      "metadata": {
        "id": "sFD1_Ss6F4aF"
      },
      "source": [
        "Find the positional , maximum and minimum"
      ]
    },
    {
      "cell_type": "code",
      "metadata": {
        "colab": {
          "base_uri": "https://localhost:8080/"
        },
        "id": "ni1U8qAVFZsX",
        "outputId": "61be6bcc-2577-4910-c85e-725f30e71d01"
      },
      "source": [
        "#New  tensor for finding positional maximum and minimum tensor\n",
        "tf.random.set_seed(42) \n",
        "F = tf.random.uniform(shape=[50])\n",
        "F"
      ],
      "execution_count": null,
      "outputs": [
        {
          "output_type": "execute_result",
          "data": {
            "text/plain": [
              "<tf.Tensor: shape=(50,), dtype=float32, numpy=\n",
              "array([0.6645621 , 0.44100678, 0.3528825 , 0.46448255, 0.03366041,\n",
              "       0.68467236, 0.74011743, 0.8724445 , 0.22632635, 0.22319686,\n",
              "       0.3103881 , 0.7223358 , 0.13318717, 0.5480639 , 0.5746088 ,\n",
              "       0.8996835 , 0.00946367, 0.5212307 , 0.6345445 , 0.1993283 ,\n",
              "       0.72942245, 0.54583454, 0.10756552, 0.6767061 , 0.6602763 ,\n",
              "       0.33695042, 0.60141766, 0.21062577, 0.8527372 , 0.44062173,\n",
              "       0.9485276 , 0.23752594, 0.81179297, 0.5263394 , 0.494308  ,\n",
              "       0.21612847, 0.8457197 , 0.8718841 , 0.3083862 , 0.6868038 ,\n",
              "       0.23764038, 0.7817228 , 0.9671384 , 0.06870162, 0.79873943,\n",
              "       0.66028714, 0.5871513 , 0.16461694, 0.7381023 , 0.32054043],\n",
              "      dtype=float32)>"
            ]
          },
          "metadata": {
            "tags": []
          },
          "execution_count": 148
        }
      ]
    },
    {
      "cell_type": "code",
      "metadata": {
        "colab": {
          "base_uri": "https://localhost:8080/"
        },
        "id": "wyKqYqMDJlN_",
        "outputId": "cec21e2b-bcb3-4626-c60e-6a876a88c5ed"
      },
      "source": [
        "#Find the positional maximum\n",
        "tf.argmax(F)"
      ],
      "execution_count": null,
      "outputs": [
        {
          "output_type": "execute_result",
          "data": {
            "text/plain": [
              "<tf.Tensor: shape=(), dtype=int64, numpy=42>"
            ]
          },
          "metadata": {
            "tags": []
          },
          "execution_count": 151
        }
      ]
    },
    {
      "cell_type": "code",
      "metadata": {
        "colab": {
          "base_uri": "https://localhost:8080/"
        },
        "id": "LCAMw211JG8f",
        "outputId": "b079f969-7496-453e-97a7-6c577b8938ad"
      },
      "source": [
        "#Index on our largest value position\n",
        "F[tf.argmax(F)]\n"
      ],
      "execution_count": null,
      "outputs": [
        {
          "output_type": "execute_result",
          "data": {
            "text/plain": [
              "<tf.Tensor: shape=(), dtype=float32, numpy=0.9671384>"
            ]
          },
          "metadata": {
            "tags": []
          },
          "execution_count": 150
        }
      ]
    },
    {
      "cell_type": "code",
      "metadata": {
        "id": "yhstKDyvKRM0"
      },
      "source": [
        ""
      ],
      "execution_count": null,
      "outputs": []
    }
  ]
}